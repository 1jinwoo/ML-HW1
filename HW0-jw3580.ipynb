{
 "cells": [
  {
   "cell_type": "code",
   "execution_count": 2,
   "metadata": {},
   "outputs": [],
   "source": [
    "import numpy as np\n",
    "import matplotlib.pyplot as plt\n",
    "import scipy as sp\n",
    "import scipy.io as sio"
   ]
  },
  {
   "cell_type": "code",
   "execution_count": 3,
   "metadata": {},
   "outputs": [
    {
     "data": {
      "text/plain": [
       "{'__header__': b'MATLAB 5.0 MAT-file, Platform: PCWIN64, Created on: Wed May 20 20:12:58 2015',\n",
       " '__version__': '1.0',\n",
       " '__globals__': [],\n",
       " 'M': array([[ 92,  99,   1,   8,  15,  67,  74,  51],\n",
       "        [ 98,  80,   7,  14,  16,  73,  55,  57],\n",
       "        [  4,  81,  88,  20,  22,  54,  56,  63],\n",
       "        [ 85,  87,  19,  21,   3,  60,  62,  69],\n",
       "        [ 86,  93,  25,   2,   9,  61,  68,  75],\n",
       "        [ 17,  24,  76,  83,  90,  42,  49,  26],\n",
       "        [ 23,   5,  82,  89,  91,  48,  30,  32],\n",
       "        [ 79,   6,  13,  95,  97,  29,  31,  38],\n",
       "        [ 10,  12,  94,  96,  78,  35,  37,  44],\n",
       "        [ 11,  18, 100,  77,  84,  36,  43,  50]], dtype=uint8)}"
      ]
     },
     "execution_count": 3,
     "metadata": {},
     "output_type": "execute_result"
    }
   ],
   "source": [
    "mat = sio.loadmat('hw0data.mat')\n",
    "mat"
   ]
  },
  {
   "cell_type": "code",
   "execution_count": 4,
   "metadata": {},
   "outputs": [
    {
     "data": {
      "text/plain": [
       "array([[ 92,  99,   1,   8,  15,  67,  74,  51],\n",
       "       [ 98,  80,   7,  14,  16,  73,  55,  57],\n",
       "       [  4,  81,  88,  20,  22,  54,  56,  63],\n",
       "       [ 85,  87,  19,  21,   3,  60,  62,  69],\n",
       "       [ 86,  93,  25,   2,   9,  61,  68,  75],\n",
       "       [ 17,  24,  76,  83,  90,  42,  49,  26],\n",
       "       [ 23,   5,  82,  89,  91,  48,  30,  32],\n",
       "       [ 79,   6,  13,  95,  97,  29,  31,  38],\n",
       "       [ 10,  12,  94,  96,  78,  35,  37,  44],\n",
       "       [ 11,  18, 100,  77,  84,  36,  43,  50]], dtype=uint8)"
      ]
     },
     "execution_count": 4,
     "metadata": {},
     "output_type": "execute_result"
    }
   ],
   "source": [
    "M = mat['M']\n",
    "M"
   ]
  },
  {
   "cell_type": "code",
   "execution_count": 5,
   "metadata": {},
   "outputs": [
    {
     "data": {
      "text/plain": [
       "(10, 8)"
      ]
     },
     "execution_count": 5,
     "metadata": {},
     "output_type": "execute_result"
    }
   ],
   "source": [
    "# 4.1 (ii)\n",
    "M.shape"
   ]
  },
  {
   "cell_type": "code",
   "execution_count": 9,
   "metadata": {},
   "outputs": [
    {
     "data": {
      "text/plain": [
       "3"
      ]
     },
     "execution_count": 9,
     "metadata": {},
     "output_type": "execute_result"
    }
   ],
   "source": [
    "# (iii)\n",
    "M[3, 4]"
   ]
  },
  {
   "cell_type": "code",
   "execution_count": 12,
   "metadata": {},
   "outputs": [
    {
     "data": {
      "text/plain": [
       "50.5"
      ]
     },
     "execution_count": 12,
     "metadata": {},
     "output_type": "execute_result"
    }
   ],
   "source": [
    "# (iv)\n",
    "M[:, 4].mean()"
   ]
  },
  {
   "cell_type": "code",
   "execution_count": 14,
   "metadata": {},
   "outputs": [
    {
     "data": {
      "image/png": "[encoded data removed]",
      "text/plain": [
       "<Figure size 432x288 with 1 Axes>"
      ]
     },
     "metadata": {
      "needs_background": "light"
     },
     "output_type": "display_data"
    }
   ],
   "source": [
    "# (v)\n",
    "plt.hist(M[3])\n",
    "plt.show()"
   ]
  },
  {
   "cell_type": "code",
   "execution_count": 68,
   "metadata": {},
   "outputs": [
    {
     "data": {
      "text/plain": [
       "array([ 102.8303462 ,  263.62801936, 1022.06770617])"
      ]
     },
     "execution_count": 68,
     "metadata": {},
     "output_type": "execute_result"
    }
   ],
   "source": [
    "# (vi)\n",
    "MTM = np.matmul(M.transpose(), M)\n",
    "sp.linalg.eigh(MTM, eigvals=(5,7), eigvals_only=True)"
   ]
  },
  {
   "cell_type": "code",
   "execution_count": 35,
   "metadata": {},
   "outputs": [
    {
     "data": {
      "text/plain": [
       "array([[ 1.25, -1.5 ],\n",
       "       [-1.5 ,  5.  ]])"
      ]
     },
     "execution_count": 35,
     "metadata": {},
     "output_type": "execute_result"
    }
   ],
   "source": [
    "# 4.2 (i)\n",
    "L = np.array([5/4, -3/2, -3/2, 5]).reshape((2,2))\n",
    "L"
   ]
  },
  {
   "cell_type": "code",
   "execution_count": 94,
   "metadata": {},
   "outputs": [
    {
     "data": {
      "text/plain": [
       "array([0.43236429, 0.90169902])"
      ]
     },
     "execution_count": 94,
     "metadata": {},
     "output_type": "execute_result"
    }
   ],
   "source": [
    "# (ii)\n",
    "vecs = []\n",
    "for i in range(500):\n",
    "    vec = np.array(np.random.normal(0, 1, (2)))\n",
    "    vec_len = np.linalg.norm(vec)\n",
    "    vec = vec / vec_len\n",
    "    vecs.append(vec)\n",
    "vecs[0]"
   ]
  },
  {
   "cell_type": "code",
   "execution_count": 95,
   "metadata": {},
   "outputs": [
    {
     "name": "stdout",
     "output_type": "stream",
     "text": [
      "vecs[0].shape (2,)\n",
      "L.shape (2, 2)\n"
     ]
    },
    {
     "data": {
      "text/plain": [
       "[array([-0.81209317,  3.85994868]),\n",
       " array([-1.18420697,  4.54080222]),\n",
       " array([ 1.59285042, -2.73200176]),\n",
       " array([ 1.84161926, -3.84786612]),\n",
       " array([ 0.52053325, -3.25445157]),\n",
       " array([-0.51018772, -0.72286205]),\n",
       " array([-0.97420076,  0.62018616]),\n",
       " array([-1.95061625,  4.7051545 ]),\n",
       " array([ 1.07416242, -0.93064788]),\n",
       " array([-1.87426076,  5.18315909])]"
      ]
     },
     "execution_count": 95,
     "metadata": {},
     "output_type": "execute_result"
    }
   ],
   "source": [
    "# (iii)\n",
    "print('vecs[0].shape', vecs[0].shape)\n",
    "print('L.shape', L.shape)\n",
    "r_tildes = [np.matmul(L, vec) for vec in vecs]\n",
    "r_tildes[0:10]"
   ]
  },
  {
   "cell_type": "code",
   "execution_count": 96,
   "metadata": {},
   "outputs": [
    {
     "data": {
      "text/plain": [
       "(5.526171589037318, 0.7238284109626816)"
      ]
     },
     "execution_count": 96,
     "metadata": {},
     "output_type": "execute_result"
    }
   ],
   "source": [
    "# (iv)\n",
    "eigenvals = sp.linalg.eigh(L, eigvals_only=True)\n",
    "lambda_max = eigenvals[-1]\n",
    "lambda_min = eigenvals[0]\n",
    "lambda_max, lambda_min"
   ]
  },
  {
   "cell_type": "code",
   "execution_count": 97,
   "metadata": {},
   "outputs": [
    {
     "data": {
      "text/plain": [
       "[3.9444516861071777,\n",
       " 4.69267844063231,\n",
       " 3.1624367341693507,\n",
       " 4.265868634388071,\n",
       " 3.2958170306242414,\n",
       " 0.8847717503197249,\n",
       " 1.1548584295041362,\n",
       " 5.093464698405421,\n",
       " 1.4212425495518037,\n",
       " 5.511623317864586,\n",
       " 1.6954040168957336,\n",
       " 4.66264786177711,\n",
       " 3.574585632697853,\n",
       " 5.438008547704229,\n",
       " 5.482478208862726,\n",
       " 5.2686066324838725,\n",
       " 5.473835431929494,\n",
       " 4.996294498448321,\n",
       " 4.661857133878026,\n",
       " 1.1593893238195374,\n",
       " 4.423431429219036,\n",
       " 5.359187819856584,\n",
       " 5.026612564941905,\n",
       " 5.449523446184323,\n",
       " 5.070362282896153,\n",
       " 5.510133510645434,\n",
       " 4.924723366646145,\n",
       " 2.4431648158047,\n",
       " 5.340685920085862,\n",
       " 4.30837255762966,\n",
       " 2.833295020431335,\n",
       " 2.1154912299994044,\n",
       " 4.113435546030981,\n",
       " 3.3096047300544935,\n",
       " 4.526033865034508,\n",
       " 3.457517413105024,\n",
       " 2.158232244101839,\n",
       " 4.705017638354544,\n",
       " 5.5260690723209756,\n",
       " 5.44709823854368,\n",
       " 1.2085283679171135,\n",
       " 3.1448349348892934,\n",
       " 4.982985896609694,\n",
       " 4.721509484741566,\n",
       " 3.8362180468825917,\n",
       " 5.367164545350138,\n",
       " 5.525818599255477,\n",
       " 4.1001389584436865,\n",
       " 1.1795235410396088,\n",
       " 0.7238337786790611,\n",
       " 4.004048977101508,\n",
       " 3.4273180689812275,\n",
       " 3.558731560550645,\n",
       " 4.918074005988679,\n",
       " 3.8259222497506276,\n",
       " 0.7506405030022313,\n",
       " 5.497825268069386,\n",
       " 5.246279233714741,\n",
       " 1.889821867641371,\n",
       " 2.548691411379354,\n",
       " 2.831946140895946,\n",
       " 1.1708058701974224,\n",
       " 5.270069563157142,\n",
       " 4.34003458276497,\n",
       " 4.00097741754959,\n",
       " 5.5239093223499065,\n",
       " 5.496830595258848,\n",
       " 5.313676475373949,\n",
       " 1.0866953541232864,\n",
       " 4.068004786912896,\n",
       " 3.443916387786395,\n",
       " 5.4547815445216905,\n",
       " 3.676884770945248,\n",
       " 2.125279535827218,\n",
       " 4.959615769595814,\n",
       " 5.510313587460934,\n",
       " 2.703049048236967,\n",
       " 5.478616725679444,\n",
       " 5.121230386374105,\n",
       " 5.415860868939511,\n",
       " 5.505716647159127,\n",
       " 0.7242385796574503,\n",
       " 5.505218418057521,\n",
       " 0.7381266313248702,\n",
       " 3.845270453097257,\n",
       " 4.008164146589795,\n",
       " 5.517259944964533,\n",
       " 2.542328847419224,\n",
       " 0.858856609363346,\n",
       " 4.905547188509059,\n",
       " 3.48669592730081,\n",
       " 2.825081343259108,\n",
       " 5.470777928362727,\n",
       " 0.9605415614851945,\n",
       " 1.9926770653343213,\n",
       " 5.093995380421297,\n",
       " 5.4167176451751775,\n",
       " 5.4974988532315185,\n",
       " 2.1827217000201737,\n",
       " 5.486896105279295,\n",
       " 4.853796820726054,\n",
       " 1.6828507232744603,\n",
       " 5.295313057027462,\n",
       " 5.045895511932601,\n",
       " 2.5304102087192506,\n",
       " 2.481074194760271,\n",
       " 2.6791616210525406,\n",
       " 2.7321988845257383,\n",
       " 1.3014313801745756,\n",
       " 5.410986193901242,\n",
       " 3.419959617599805,\n",
       " 2.2277055548029168,\n",
       " 5.478483428198829,\n",
       " 5.150224968165173,\n",
       " 5.23666557029296,\n",
       " 5.346935121062384,\n",
       " 5.095027399748549,\n",
       " 4.232798490536257,\n",
       " 2.4455483069379618,\n",
       " 5.512496237887867,\n",
       " 5.373716849347016,\n",
       " 3.0320880318364525,\n",
       " 3.4390925856133427,\n",
       " 3.3771912690350416,\n",
       " 5.317197582112132,\n",
       " 2.5636004451954677,\n",
       " 0.7270892285955722,\n",
       " 5.430033121872209,\n",
       " 5.274205851751314,\n",
       " 1.5854779996550115,\n",
       " 3.6548960858568105,\n",
       " 3.011354044659173,\n",
       " 5.492035977002991,\n",
       " 1.0626090167776645,\n",
       " 0.9730188915838112,\n",
       " 1.2392848934329177,\n",
       " 4.653599675386579,\n",
       " 4.161738726043674,\n",
       " 2.6375865407376264,\n",
       " 2.389565323048897,\n",
       " 0.7322615049733029,\n",
       " 4.090279467453631,\n",
       " 3.0517264573813954,\n",
       " 1.8873138545389745,\n",
       " 2.9333404857540675,\n",
       " 3.3954433542703537,\n",
       " 4.638475387551147,\n",
       " 2.856688358216802,\n",
       " 3.2313246904374333,\n",
       " 3.5975014405581036,\n",
       " 4.719572708507672,\n",
       " 2.704674240357994,\n",
       " 3.3163662537030527,\n",
       " 1.479751492784419,\n",
       " 3.0054637016687558,\n",
       " 5.446063202715977,\n",
       " 1.5617968216155604,\n",
       " 3.4714362746491934,\n",
       " 3.692779416374984,\n",
       " 2.5220693820404607,\n",
       " 1.9623241591073437,\n",
       " 4.418822845545448,\n",
       " 3.8428943441367607,\n",
       " 2.9394411944904295,\n",
       " 2.13441648874572,\n",
       " 2.927680250176509,\n",
       " 2.320167499181234,\n",
       " 4.916545732962101,\n",
       " 0.7827819161449243,\n",
       " 5.076858452438204,\n",
       " 4.826894546575329,\n",
       " 5.399579039302491,\n",
       " 4.3403090083715385,\n",
       " 3.3506280268001225,\n",
       " 4.646915321193252,\n",
       " 4.26942860937985,\n",
       " 4.680560165573523,\n",
       " 5.363628194379709,\n",
       " 5.472468520256062,\n",
       " 5.518126569607858,\n",
       " 1.009683776502563,\n",
       " 1.727676386757534,\n",
       " 5.034526649359797,\n",
       " 5.089057467299564,\n",
       " 0.7452472431362489,\n",
       " 1.3656606759561385,\n",
       " 5.516495165141122,\n",
       " 1.7032524935729634,\n",
       " 1.5213623348265692,\n",
       " 2.1845717930806767,\n",
       " 5.522818636801005,\n",
       " 1.2092321496554161,\n",
       " 0.8094934913839917,\n",
       " 5.494039855017698,\n",
       " 4.551851932862467,\n",
       " 0.7347055493862682,\n",
       " 1.6667629369616552,\n",
       " 4.513631443146377,\n",
       " 3.001218589522375,\n",
       " 4.440186540626434,\n",
       " 5.520555670644371,\n",
       " 4.0936687049612885,\n",
       " 0.9066175359963633,\n",
       " 0.854128942509577,\n",
       " 3.588755556164304,\n",
       " 1.4539751297605266,\n",
       " 5.2801139718235435,\n",
       " 5.517897067263532,\n",
       " 5.492366201214445,\n",
       " 5.440178092526233,\n",
       " 2.8193023825702155,\n",
       " 2.8495620265212924,\n",
       " 1.9021485711888182,\n",
       " 3.792985979024375,\n",
       " 4.70046100194115,\n",
       " 5.318389933795424,\n",
       " 2.812499136394689,\n",
       " 5.377069474375576,\n",
       " 4.850411061211849,\n",
       " 2.1475128348585115,\n",
       " 3.0442250283430377,\n",
       " 5.47799024354147,\n",
       " 4.53721201844619,\n",
       " 2.2982525596067815,\n",
       " 5.409091015450124,\n",
       " 0.8065829960339117,\n",
       " 3.89621887848726,\n",
       " 1.810392468880313,\n",
       " 5.21465971119162,\n",
       " 5.444269534712555,\n",
       " 4.298079705881317,\n",
       " 3.8250806228748555,\n",
       " 0.751330483228431,\n",
       " 3.31100623515355,\n",
       " 2.0312708846527103,\n",
       " 5.406067573272229,\n",
       " 4.773829239747216,\n",
       " 4.227567893764942,\n",
       " 3.7282729529391903,\n",
       " 4.711849455643109,\n",
       " 5.041803719974351,\n",
       " 2.498887049038117,\n",
       " 5.202488336957231,\n",
       " 2.6538212855496783,\n",
       " 0.8335849815482531,\n",
       " 1.4681856026862863,\n",
       " 4.838615777638149,\n",
       " 4.46522949230893,\n",
       " 5.474868376895992,\n",
       " 1.8608339907546152,\n",
       " 5.445864716140554,\n",
       " 3.4399871158966064,\n",
       " 5.487738761854865,\n",
       " 5.480005807106138,\n",
       " 5.4563604302841355,\n",
       " 3.0804622297422166,\n",
       " 5.025860454553347,\n",
       " 1.9454423241554841,\n",
       " 5.20431184900967,\n",
       " 3.3777615761712707,\n",
       " 4.094048981937643,\n",
       " 1.8701547639904814,\n",
       " 4.685039124211655,\n",
       " 1.0911448367924712,\n",
       " 5.455439344258539,\n",
       " 1.3264013128067633,\n",
       " 3.3721969095059956,\n",
       " 4.025665518039618,\n",
       " 5.067675678152603,\n",
       " 4.075292781217126,\n",
       " 1.522793038034868,\n",
       " 1.907416056340595,\n",
       " 5.486634755931762,\n",
       " 1.8454988993794654,\n",
       " 4.627279711491044,\n",
       " 5.15953380238764,\n",
       " 3.1548503846437095,\n",
       " 5.3742488825713615,\n",
       " 5.413850403731428,\n",
       " 3.5864349058149427,\n",
       " 3.10022281731181,\n",
       " 1.1186610832770085,\n",
       " 1.927268429835298,\n",
       " 4.280449358508902,\n",
       " 3.967105600901895,\n",
       " 4.567789366802699,\n",
       " 3.192843257851741,\n",
       " 2.9630262312097915,\n",
       " 4.891111616166591,\n",
       " 4.290985882706625,\n",
       " 1.6425596132568985,\n",
       " 1.9832892071990462,\n",
       " 4.800543184338183,\n",
       " 2.9562724380849095,\n",
       " 5.489701921392794,\n",
       " 4.768509864814381,\n",
       " 1.85287529419087,\n",
       " 1.1921103635315549,\n",
       " 5.35978859394958,\n",
       " 5.349535762279088,\n",
       " 4.606372303665766,\n",
       " 5.50253265359161,\n",
       " 2.276914569204325,\n",
       " 2.7223038484983912,\n",
       " 3.4605816087795,\n",
       " 3.467183779917154,\n",
       " 3.8677914463801715,\n",
       " 5.337590904717391,\n",
       " 5.330327047139435,\n",
       " 4.441011395510878,\n",
       " 4.649457126321755,\n",
       " 1.596149748975604,\n",
       " 5.5032769542185935,\n",
       " 2.739123400163345,\n",
       " 5.086247915919757,\n",
       " 4.5585724774156535,\n",
       " 0.9248760289030592,\n",
       " 4.7924263560067955,\n",
       " 1.071617261606353,\n",
       " 5.0351554462647385,\n",
       " 3.6360996034213082,\n",
       " 2.1822248741983277,\n",
       " 4.485388962793047,\n",
       " 0.9912357005755515,\n",
       " 1.1081267756910826,\n",
       " 5.452946380526601,\n",
       " 3.516821041527468,\n",
       " 4.932016214226192,\n",
       " 4.884626601127217,\n",
       " 4.622552681898994,\n",
       " 4.263009604092729,\n",
       " 5.495107001974664,\n",
       " 4.502139462841008,\n",
       " 4.696797451032826,\n",
       " 2.3169962677155143,\n",
       " 3.138619600547441,\n",
       " 4.185461289307312,\n",
       " 5.450108863914805,\n",
       " 5.236970345402857,\n",
       " 4.645506970346183,\n",
       " 0.7239331242517987,\n",
       " 0.7526945437351963,\n",
       " 1.6953924581051976,\n",
       " 5.352174895876416,\n",
       " 4.5773728468039145,\n",
       " 5.286888148173379,\n",
       " 3.087722113883337,\n",
       " 1.4006415096306661,\n",
       " 4.402377993235313,\n",
       " 4.060900608153435,\n",
       " 3.6519499804996185,\n",
       " 5.446141530112156,\n",
       " 5.2824586096925294,\n",
       " 0.9091724178466887,\n",
       " 5.293588438487554,\n",
       " 4.771173005685388,\n",
       " 0.7811218769521082,\n",
       " 2.777619235908469,\n",
       " 5.30677687038761,\n",
       " 5.388236431353058,\n",
       " 5.226015070542181,\n",
       " 3.6432652159540724,\n",
       " 2.5016713083286928,\n",
       " 1.7363483867491694,\n",
       " 0.8444006914746875,\n",
       " 5.313485939862565,\n",
       " 2.006939752216732,\n",
       " 3.542305822023535,\n",
       " 5.332535997835012,\n",
       " 1.9961193924159846,\n",
       " 3.0003671698067755,\n",
       " 4.943051048041599,\n",
       " 5.5237178451931195,\n",
       " 1.5416461203574006,\n",
       " 2.827398156079829,\n",
       " 2.97126748445434,\n",
       " 1.2443129799309678,\n",
       " 4.6919578940154665,\n",
       " 5.39256582881218,\n",
       " 0.9976582281335584,\n",
       " 2.557600334503071,\n",
       " 3.450308387905937,\n",
       " 5.035846505722509,\n",
       " 0.8463911881798998,\n",
       " 3.1168538179558114,\n",
       " 5.491276394751341,\n",
       " 1.132246623691029,\n",
       " 4.916684552370166,\n",
       " 5.305862623564046,\n",
       " 0.8532505806078201,\n",
       " 5.104358308662559,\n",
       " 1.1740573621337715,\n",
       " 4.52174533081742,\n",
       " 5.234175249291035,\n",
       " 5.0386274753782105,\n",
       " 5.492660637361999,\n",
       " 5.3697166689829485,\n",
       " 4.135539428230138,\n",
       " 5.112277335025661,\n",
       " 2.6798790137762927,\n",
       " 2.817863951852324,\n",
       " 4.044678658491953,\n",
       " 5.447594274520242,\n",
       " 0.7246684302762642,\n",
       " 2.4822190835162,\n",
       " 5.375062058362272,\n",
       " 5.515723568631079,\n",
       " 5.073296321979208,\n",
       " 5.488235611041631,\n",
       " 0.8043748686209148,\n",
       " 3.5479915061937737,\n",
       " 5.058315621504178,\n",
       " 4.847967088861148,\n",
       " 5.4851323232474005,\n",
       " 5.165102681079643,\n",
       " 4.216733104890971,\n",
       " 3.8225150636496323,\n",
       " 3.4308539615901674,\n",
       " 5.526062327318538,\n",
       " 3.1045881292496453,\n",
       " 4.521339976411223,\n",
       " 5.063115323246113,\n",
       " 5.500053495759247,\n",
       " 5.100388377787211,\n",
       " 3.4397109589703616,\n",
       " 5.356767425896114,\n",
       " 5.246500161638608,\n",
       " 4.725460979361835,\n",
       " 5.031649312992591,\n",
       " 3.2072526393023923,\n",
       " 5.1681974305186404,\n",
       " 5.366648429901974,\n",
       " 1.675879846246788,\n",
       " 0.7248595713297858,\n",
       " 3.797125925241979,\n",
       " 4.973499939827883,\n",
       " 4.351099426601587,\n",
       " 5.213701592934569,\n",
       " 5.524842873827118,\n",
       " 1.8216016141256055,\n",
       " 5.481927439849212,\n",
       " 2.475133023472613,\n",
       " 3.709666371466157,\n",
       " 4.297271787724008,\n",
       " 5.469435002075515,\n",
       " 4.632475116934847,\n",
       " 0.7395454350076018,\n",
       " 4.8472551719521535,\n",
       " 3.6719452234643395,\n",
       " 5.396294509649318,\n",
       " 3.6097138782904583,\n",
       " 1.6593164961072095,\n",
       " 0.9159853909428728,\n",
       " 5.40542194460769,\n",
       " 2.7667863681183125,\n",
       " 1.517079257007552,\n",
       " 4.155984138531978,\n",
       " 5.434588861618132,\n",
       " 0.8317310548431344,\n",
       " 4.150998474556605,\n",
       " 5.523570882605953,\n",
       " 1.5088060359607922,\n",
       " 5.516995430475403,\n",
       " 1.4464059904071933,\n",
       " 4.786704839900858,\n",
       " 1.3558228508788284,\n",
       " 4.774007314154838,\n",
       " 4.181261062801429,\n",
       " 1.5047619707665192,\n",
       " 2.341649048834564,\n",
       " 5.1358422243749935,\n",
       " 4.821791682025193,\n",
       " 1.0992207384294537,\n",
       " 0.7338308530759967,\n",
       " 4.10238686479071,\n",
       " 5.482823202750256,\n",
       " 1.2389161743520047,\n",
       " 3.302029163673558,\n",
       " 1.4773947986949416,\n",
       " 3.203282844669028,\n",
       " 3.703323551399258,\n",
       " 3.3571291826422387,\n",
       " 0.792555710275985,\n",
       " 3.6957977908670276,\n",
       " 5.272379698878057,\n",
       " 5.022213801943187,\n",
       " 5.036439693511533,\n",
       " 1.9383664826835902,\n",
       " 2.6960054950548122,\n",
       " 3.1692771604505428,\n",
       " 0.7656680593104163,\n",
       " 4.689475516129019,\n",
       " 5.276256195897156,\n",
       " 4.447453080479308,\n",
       " 5.525321680250003,\n",
       " 4.2876604019984494,\n",
       " 4.712298042280428,\n",
       " 4.694886444793704,\n",
       " 4.983352881036559,\n",
       " 5.1288904134953315]"
      ]
     },
     "execution_count": 97,
     "metadata": {},
     "output_type": "execute_result"
    }
   ],
   "source": [
    "# (v)\n",
    "r_tildes_len = [np.linalg.norm(r_tilde) for r_tilde in r_tildes]\n",
    "r_tildes_len"
   ]
  },
  {
   "cell_type": "code",
   "execution_count": 98,
   "metadata": {},
   "outputs": [
    {
     "data": {
      "image/png": "[encoded data removed]",
      "text/plain": [
       "<Figure size 432x288 with 1 Axes>"
      ]
     },
     "metadata": {
      "needs_background": "light"
     },
     "output_type": "display_data"
    }
   ],
   "source": [
    "# (vi)\n",
    "plt.hist(r_tildes_len, bins=50)\n",
    "plt.show()\n",
    "\n",
    "# ANSWER: the bottom eigenvalue is located at the very left of the histogram\n",
    "# and the top eigenvalue at the very right."
   ]
  },
  {
   "cell_type": "code",
   "execution_count": 99,
   "metadata": {},
   "outputs": [
    {
     "data": {
      "text/plain": [
       "'\\nthe bottom eigenvalue is the lower bound for magnitude of r_tildes\\nand the top eigenvalue is the upper bound for the magnitude of r_tildes\\n'"
      ]
     },
     "execution_count": 99,
     "metadata": {},
     "output_type": "execute_result"
    }
   ],
   "source": [
    "# (vii)\n",
    "'''\n",
    "the bottom eigenvalue is the lower bound for magnitude of r_tildes\n",
    "and the top eigenvalue is the upper bound for the magnitude of r_tildes\n",
    "'''"
   ]
  },
  {
   "cell_type": "code",
   "execution_count": 100,
   "metadata": {},
   "outputs": [
    {
     "data": {
      "text/plain": [
       "array([-0.33100694,  0.94362832])"
      ]
     },
     "execution_count": 100,
     "metadata": {},
     "output_type": "execute_result"
    }
   ],
   "source": [
    "# (viii)\n",
    "v_max = sp.linalg.eigh(L)[1][1]\n",
    "v_max"
   ]
  },
  {
   "cell_type": "code",
   "execution_count": 161,
   "metadata": {},
   "outputs": [
    {
     "name": "stdout",
     "output_type": "stream",
     "text": [
      "[array([-0.81209317,  3.85994868]), array([-1.18420697,  4.54080222]), array([ 1.59285042, -2.73200176]), array([ 1.84161926, -3.84786612]), array([ 0.52053325, -3.25445157]), array([-0.51018772, -0.72286205]), array([-0.97420076,  0.62018616]), array([-1.95061625,  4.7051545 ]), array([ 1.07416242, -0.93064788]), array([-1.87426076,  5.18315909])] [-1.82920116  5.21465201]\n"
     ]
    },
    {
     "data": {
      "image/png": "[encoded data removed]",
      "text/plain": [
       "<Figure size 432x288 with 1 Axes>"
      ]
     },
     "metadata": {
      "needs_background": "light"
     },
     "output_type": "display_data"
    }
   ],
   "source": [
    "# (ix)\n",
    "Lv_max = np.matmul(L, v_max)\n",
    "print(r_tildes[:10], Lv_max)\n",
    "\n",
    "U = [vec[0] for vec in r_tildes]\n",
    "V = [vec[1] for vec in r_tildes]\n",
    "plt.quiver([0], [0], U, V, scale=1, units='xy')\n",
    "plt.quiver([0], [0], Lv_max[0], Lv_max[1], scale=1, units='xy', color='red')\n",
    "plt.xlim([-8, 8])\n",
    "plt.ylim([-8, 8])\n",
    "plt.show()"
   ]
  },
  {
   "cell_type": "code",
   "execution_count": 162,
   "metadata": {},
   "outputs": [
    {
     "data": {
      "text/plain": [
       "'\\nv_max is the longest possible of random unit vectors\\nthat are distorted by the matrix L. Thus, the largest\\neigenvector of L is the vector with largest magnitude\\nwhen distorted by the matrix L.\\n'"
      ]
     },
     "execution_count": 162,
     "metadata": {},
     "output_type": "execute_result"
    }
   ],
   "source": [
    "# (x)\n",
    "\n",
    "'''\n",
    "It can be inferred from the plot that v_max describes the orientation of the distortion of the matrix L.\n",
    "'''"
   ]
  }
 ],
 "metadata": {
  "kernelspec": {
   "display_name": "Python 3",
   "language": "python",
   "name": "python3"
  },
  "language_info": {
   "codemirror_mode": {
    "name": "ipython",
    "version": 3
   },
   "file_extension": ".py",
   "mimetype": "text/x-python",
   "name": "python",
   "nbconvert_exporter": "python",
   "pygments_lexer": "ipython3",
   "version": "3.6.7"
  }
 },
 "nbformat": 4,
 "nbformat_minor": 2
}

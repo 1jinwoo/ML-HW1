{
 "cells": [
  {
   "cell_type": "code",
   "execution_count": 1,
   "metadata": {
    "collapsed": true
   },
   "outputs": [],
   "source": [
    "import numpy as np\n",
    "import pandas as pd\n",
    "import operator\n",
    "import matplotlib.pyplot as plt"
   ]
  },
  {
   "cell_type": "code",
   "execution_count": 2,
   "metadata": {
    "collapsed": true
   },
   "outputs": [],
   "source": [
    "train = pd.read_csv('hw1data/propublicaTrain.csv')\n",
    "test = pd.read_csv('hw1data/propublicaTest.csv')"
   ]
  },
  {
   "cell_type": "markdown",
   "metadata": {},
   "source": [
    "# 5.4.3 Naive Bayes"
   ]
  },
  {
   "cell_type": "code",
   "execution_count": 3,
   "metadata": {
    "collapsed": true
   },
   "outputs": [],
   "source": [
    "# Preprocessing\n",
    "def preprocess(df):\n",
    "    '''Remove c_charge_degree_M column due to redunduncy'''\n",
    "    return df.drop(labels=['c_charge_degree_M'], axis=1)"
   ]
  },
  {
   "cell_type": "code",
   "execution_count": 4,
   "metadata": {
    "collapsed": true
   },
   "outputs": [],
   "source": [
    "def naive_bayes_train(df, features, target='two_year_recid', k=1):\n",
    "    \"\"\"returns class conditional probability distribution and class prior as dictionaries\"\"\"\n",
    "    # initialize variables\n",
    "    sample_size, feature_dim = df.shape[0], len(features)\n",
    "    # print('sample_size, feature_dim: ', sample_size, feature_dim)\n",
    "    y_count = {} # {key = label : value = count of label in sample},\n",
    "    x_count = {} # dict of dicts of dicts = {key=label:value={key=feature:value={key=feature_val:value=count}}}\n",
    "    feature_given_class = {} # Pr[X=x|Y=y]\n",
    "    class_prior = {} # Pr[Y=y]\n",
    "    \n",
    "    # initialize dictionary keys\n",
    "    for label in df[target].unique():\n",
    "        y_count[label], class_prior[label] = 0, 0\n",
    "        x_count[label], feature_given_class[label] = {}, {}\n",
    "        for feature in features:\n",
    "            x_count[label][feature], feature_given_class[label][feature] = {}, {}\n",
    "    \n",
    "    # print('y_count: ', y_count)\n",
    "    # print('x_count: ', x_count)\n",
    "    \n",
    "    # update dictionary values\n",
    "    for index, row in df.iterrows():\n",
    "        label = row[target]\n",
    "        y_count[label] += 1\n",
    "        for feature in features:\n",
    "            feature_val = row[feature]\n",
    "            if feature_val in x_count[label][feature].keys():\n",
    "                x_count[label][feature][feature_val] += 1\n",
    "            else:\n",
    "                x_count[label][feature][feature_val] = 1\n",
    "    \n",
    "    # print('y_count: ', y_count)\n",
    "    # print('x_count: ', x_count)\n",
    "    \n",
    "    # find class prior probabilities\n",
    "    for label in class_prior.keys():\n",
    "        class_prior[label] = y_count[label]/sample_size\n",
    "    \n",
    "    # find feature given class probabilities with additive smoothing\n",
    "    for label in feature_given_class.keys():\n",
    "        for feature in feature_given_class[label].keys():\n",
    "            for feature_val in x_count[label][feature].keys():\n",
    "                feature_given_class[label][feature][feature_val] = \\\n",
    "                (x_count[label][feature][feature_val] + k) / (y_count[label] + k * feature_dim)\n",
    "    # print('class prior: ', class_prior)\n",
    "    # print('f|c: ', feature_given_class)\n",
    "    return class_prior, feature_given_class, y_count"
   ]
  },
  {
   "cell_type": "code",
   "execution_count": 5,
   "metadata": {
    "collapsed": true
   },
   "outputs": [],
   "source": [
    "def predict(series, features, class_prior, feature_given_class, y_count, k=1):\n",
    "    \"\"\"given a series, return a belief distribution over possible labels\"\"\"\n",
    "    belief = {}\n",
    "    for label in class_prior.keys():\n",
    "        prob = class_prior[label]\n",
    "        for feature in features:\n",
    "            feature_val = series[feature]\n",
    "            # print(feature, feature_val)\n",
    "            if feature_val in feature_given_class[label][feature]:\n",
    "                prob *= feature_given_class[label][feature][feature_val]\n",
    "            else:\n",
    "                prob *= k/(y_count[label] + k * len(features))\n",
    "        belief[label] = prob\n",
    "    return belief"
   ]
  },
  {
   "cell_type": "code",
   "execution_count": 6,
   "metadata": {
    "collapsed": true
   },
   "outputs": [],
   "source": [
    "def evaluate(df, features, class_prior, feature_given_class, y_count, target = 'two_year_recid'):\n",
    "    total_pred, accurate_pred = 0, 0\n",
    "    y_preds = []\n",
    "    for index, row in df.iterrows():\n",
    "        y = row[target]\n",
    "        belief = predict(row, features, class_prior, feature_given_class, y_count)\n",
    "        y_pred = max(belief.items(), key=operator.itemgetter(1))[0]\n",
    "        total_pred += 1\n",
    "        if y_pred == y:\n",
    "            accurate_pred += 1\n",
    "        y_preds.append(y_pred)\n",
    "    y_pred_df = pd.DataFrame({'prediction': y_preds})\n",
    "    df = pd.concat([df, y_pred_df], axis=1)\n",
    "    accuracy = accurate_pred/total_pred\n",
    "    return accuracy, df"
   ]
  },
  {
   "cell_type": "code",
   "execution_count": 7,
   "metadata": {},
   "outputs": [],
   "source": [
    "def perform_naive_bayes(train, test):\n",
    "    train = preprocess(train)\n",
    "    test = preprocess(test)\n",
    "    features = list(train)[1:]\n",
    "    class_prior, feature_given_class, y_count = naive_bayes_train(train, features)\n",
    "    return evaluate(test, features, class_prior, feature_given_class, y_count)"
   ]
  },
  {
   "cell_type": "markdown",
   "metadata": {},
   "source": [
    "# 5.4.1 MLE"
   ]
  },
  {
   "cell_type": "markdown",
   "metadata": {},
   "source": [
    "# 5.5 Which classifier is beter for this prediction task?"
   ]
  },
  {
   "cell_type": "code",
   "execution_count": 11,
   "metadata": {},
   "outputs": [
    {
     "data": {
      "text/plain": [
       "[25, 100, 200, 463, 926, 1389, 1852, 2315, 2778, 3241, 3704, 4167]"
      ]
     },
     "execution_count": 11,
     "metadata": {},
     "output_type": "execute_result"
    }
   ],
   "source": [
    "# define numbers of training samples we are interested in\n",
    "training_samples_nums = [25,100,200]\n",
    "l = [463*i for i in range(1,10)]\n",
    "training_samples_nums = training_samples_nums + l\n",
    "training_samples_nums"
   ]
  },
  {
   "cell_type": "code",
   "execution_count": 12,
   "metadata": {},
   "outputs": [],
   "source": [
    "# find accuracies of classifiers\n",
    "bayes_accuracies = []\n",
    "for number in training_samples_nums:\n",
    "    new_train = train.sample(number)\n",
    "    accuracy, _ = perform_naive_bayes(new_train, test)\n",
    "    bayes_accuracies.append(accuracy)"
   ]
  },
  {
   "cell_type": "code",
   "execution_count": 13,
   "metadata": {},
   "outputs": [
    {
     "data": {
      "image/png": "[encoded data removed]",
      "text/plain": [
       "<matplotlib.figure.Figure at 0x10b9fca20>"
      ]
     },
     "metadata": {
      "needs_background": "light"
     },
     "output_type": "display_data"
    }
   ],
   "source": [
    "plt.plot(training_samples_nums, bayes_accuracies, '.-')\n",
    "plt.show()"
   ]
  },
  {
   "cell_type": "code",
   "execution_count": null,
   "metadata": {
    "collapsed": true
   },
   "outputs": [],
   "source": []
  }
 ],
 "metadata": {
  "kernelspec": {
   "display_name": "Python 3",
   "language": "python",
   "name": "python3"
  },
  "language_info": {
   "codemirror_mode": {
    "name": "ipython",
    "version": 3
   },
   "file_extension": ".py",
   "mimetype": "text/x-python",
   "name": "python",
   "nbconvert_exporter": "python",
   "pygments_lexer": "ipython3",
   "version": "3.6.3"
  }
 },
 "nbformat": 4,
 "nbformat_minor": 2
}

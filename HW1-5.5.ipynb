{
 "cells": [
  {
   "cell_type": "code",
   "execution_count": 17,
   "metadata": {
    "collapsed": true
   },
   "outputs": [],
   "source": [
    "import numpy as np\n",
    "import pandas as pd\n",
    "import operator\n",
    "import random\n",
    "from scipy import stats\n",
    "import matplotlib.pyplot as plt\n",
    "import MLE_classifier as mle"
   ]
  },
  {
   "cell_type": "code",
   "execution_count": 2,
   "metadata": {
    "collapsed": true
   },
   "outputs": [],
   "source": [
    "train = pd.read_csv('hw1data/propublicaTrain.csv')\n",
    "test = pd.read_csv('hw1data/propublicaTest.csv')"
   ]
  },
  {
   "cell_type": "markdown",
   "metadata": {},
   "source": [
    "# 5.4.3 Naive Bayes"
   ]
  },
  {
   "cell_type": "code",
   "execution_count": 3,
   "metadata": {
    "collapsed": true
   },
   "outputs": [],
   "source": [
    "# Preprocessing\n",
    "def preprocess(df):\n",
    "    '''Remove c_charge_degree_M column due to redunduncy'''\n",
    "    return df.drop(labels=['c_charge_degree_M'], axis=1)"
   ]
  },
  {
   "cell_type": "code",
   "execution_count": 4,
   "metadata": {
    "collapsed": true
   },
   "outputs": [],
   "source": [
    "def naive_bayes_train(df, features, target='two_year_recid', k=1):\n",
    "    \"\"\"returns class conditional probability distribution and class prior as dictionaries\"\"\"\n",
    "    # initialize variables\n",
    "    sample_size, feature_dim = df.shape[0], len(features)\n",
    "    # print('sample_size, feature_dim: ', sample_size, feature_dim)\n",
    "    y_count = {} # {key = label : value = count of label in sample},\n",
    "    x_count = {} # dict of dicts of dicts = {key=label:value={key=feature:value={key=feature_val:value=count}}}\n",
    "    feature_given_class = {} # Pr[X=x|Y=y]\n",
    "    class_prior = {} # Pr[Y=y]\n",
    "    \n",
    "    # initialize dictionary keys\n",
    "    for label in df[target].unique():\n",
    "        y_count[label], class_prior[label] = 0, 0\n",
    "        x_count[label], feature_given_class[label] = {}, {}\n",
    "        for feature in features:\n",
    "            x_count[label][feature], feature_given_class[label][feature] = {}, {}\n",
    "    \n",
    "    # print('y_count: ', y_count)\n",
    "    # print('x_count: ', x_count)\n",
    "    \n",
    "    # update dictionary values\n",
    "    for index, row in df.iterrows():\n",
    "        label = row[target]\n",
    "        y_count[label] += 1\n",
    "        for feature in features:\n",
    "            feature_val = row[feature]\n",
    "            if feature_val in x_count[label][feature].keys():\n",
    "                x_count[label][feature][feature_val] += 1\n",
    "            else:\n",
    "                x_count[label][feature][feature_val] = 1\n",
    "    \n",
    "    # print('y_count: ', y_count)\n",
    "    # print('x_count: ', x_count)\n",
    "    \n",
    "    # find class prior probabilities\n",
    "    for label in class_prior.keys():\n",
    "        class_prior[label] = y_count[label]/sample_size\n",
    "    \n",
    "    # find feature given class probabilities with additive smoothing\n",
    "    for label in feature_given_class.keys():\n",
    "        for feature in feature_given_class[label].keys():\n",
    "            for feature_val in x_count[label][feature].keys():\n",
    "                feature_given_class[label][feature][feature_val] = \\\n",
    "                (x_count[label][feature][feature_val] + k) / (y_count[label] + k * feature_dim)\n",
    "    # print('class prior: ', class_prior)\n",
    "    # print('f|c: ', feature_given_class)\n",
    "    return class_prior, feature_given_class, y_count"
   ]
  },
  {
   "cell_type": "code",
   "execution_count": 5,
   "metadata": {
    "collapsed": true
   },
   "outputs": [],
   "source": [
    "def predict(series, features, class_prior, feature_given_class, y_count, k=1):\n",
    "    \"\"\"given a series, return a belief distribution over possible labels\"\"\"\n",
    "    belief = {}\n",
    "    for label in class_prior.keys():\n",
    "        prob = class_prior[label]\n",
    "        for feature in features:\n",
    "            feature_val = series[feature]\n",
    "            # print(feature, feature_val)\n",
    "            if feature_val in feature_given_class[label][feature]:\n",
    "                prob *= feature_given_class[label][feature][feature_val]\n",
    "            else:\n",
    "                prob *= k/(y_count[label] + k * len(features))\n",
    "        belief[label] = prob\n",
    "    return belief"
   ]
  },
  {
   "cell_type": "code",
   "execution_count": 6,
   "metadata": {
    "collapsed": true
   },
   "outputs": [],
   "source": [
    "def evaluate(df, features, class_prior, feature_given_class, y_count, target = 'two_year_recid'):\n",
    "    total_pred, accurate_pred = 0, 0\n",
    "    y_preds = []\n",
    "    for index, row in df.iterrows():\n",
    "        y = row[target]\n",
    "        belief = predict(row, features, class_prior, feature_given_class, y_count)\n",
    "        y_pred = max(belief.items(), key=operator.itemgetter(1))[0]\n",
    "        total_pred += 1\n",
    "        if y_pred == y:\n",
    "            accurate_pred += 1\n",
    "        y_preds.append(y_pred)\n",
    "    y_pred_df = pd.DataFrame({'prediction': y_preds})\n",
    "    df = pd.concat([df, y_pred_df], axis=1)\n",
    "    accuracy = accurate_pred/total_pred\n",
    "    return accuracy, df"
   ]
  },
  {
   "cell_type": "code",
   "execution_count": 7,
   "metadata": {
    "collapsed": true
   },
   "outputs": [],
   "source": [
    "def perform_naive_bayes(train, test):\n",
    "    train = preprocess(train)\n",
    "    test = preprocess(test)\n",
    "    features = list(train)[1:]\n",
    "    class_prior, feature_given_class, y_count = naive_bayes_train(train, features)\n",
    "    return evaluate(test, features, class_prior, feature_given_class, y_count)"
   ]
  },
  {
   "cell_type": "markdown",
   "metadata": {},
   "source": [
    "# K-NN"
   ]
  },
  {
   "cell_type": "code",
   "execution_count": 8,
   "metadata": {
    "collapsed": true
   },
   "outputs": [],
   "source": [
    "#Normed Distance\n",
    "def distance(x,y,p):\n",
    "    if (p=='inf'):\n",
    "        all_dist = np.zeros(np.shape(x)[0])\n",
    "        for i in range(np.shape(x)[0]):\n",
    "            all_dist[i] = abs(x[i]-y[i])\n",
    "        return np.amax(all_dist)\n",
    "    else:\n",
    "        sum = 0\n",
    "        for i in range(np.shape(x)[0]):\n",
    "            sum += (abs(x[i]-y[i]))**p\n",
    "        return sum**(1/p)\n"
   ]
  },
  {
   "cell_type": "code",
   "execution_count": 60,
   "metadata": {},
   "outputs": [],
   "source": [
    "def perform_knn(train, test):\n",
    "    #Training-Validation Split\n",
    "    raw_train_labels=np.array(train['two_year_recid'])\n",
    "    raw_train_input = np.array([np.array(train['sex']),np.array(train['age']),\n",
    "                                np.array(train['race']),np.array(train['juv_fel_count']),\n",
    "                                np.array(train['juv_misd_count']),np.array(train['juv_other_count']),\n",
    "                                np.array(train['priors_count']),np.array(train['c_charge_degree_F'])])\n",
    "    validation_pct = 20\n",
    "    val_size = validation_pct*len(raw_train_labels)//100\n",
    "    val_ind = random.sample(range(len(raw_train_labels)), val_size)\n",
    "    validation_input = np.zeros((8,val_size))\n",
    "    validation_labels = np.zeros(val_size)\n",
    "    training_input = np.zeros((8,len(raw_train_labels)-val_size))\n",
    "    training_labels = np.zeros(len(raw_train_labels)-val_size)\n",
    "    cat_names = ['sex','age','race','juv_fel_count','juv_misd_count','juv_other_count','priors_count','c_charge_degree_F']\n",
    "    val_cnt = 0\n",
    "    trn_cnt = 0\n",
    "    for i in range(len(raw_train_labels)):\n",
    "        if i in val_ind:\n",
    "            for j in range(len(cat_names)):\n",
    "                validation_input[j,val_cnt]=train[cat_names[j]].iloc[i]\n",
    "            validation_labels[val_cnt]=train['two_year_recid'].iloc[i]\n",
    "            val_cnt += 1\n",
    "        else:\n",
    "            for j in range(len(cat_names)):\n",
    "                training_input[j,trn_cnt]=train[cat_names[j]].iloc[i]\n",
    "            training_labels[trn_cnt]=train['two_year_recid'].iloc[i]\n",
    "            trn_cnt += 1\n",
    "    \n",
    "    #Reading in Test Data\n",
    "    test_labels = np.array(test['two_year_recid'])\n",
    "    test_input = np.array([np.array(test['sex']),np.array(test['age']),np.array(test['race']),\n",
    "                           np.array(test['juv_fel_count']),np.array(test['juv_misd_count']),\n",
    "                           np.array(test['juv_other_count']),np.array(test['priors_count']),\n",
    "                           np.array(test['c_charge_degree_F'])])\n",
    "    \n",
    "    #Running the best model, based on validation data, on our testing data\n",
    "    k_final=15\n",
    "    p_final=1\n",
    "    pred_test_labels = np.zeros(len(test_labels))\n",
    "    for i in range(len(test_labels)):\n",
    "        all_distances = np.zeros(len(training_labels))\n",
    "        for j in range(len(training_labels)):\n",
    "            all_distances[j]=distance(test_input[:,i],training_input[:,j],p_final)\n",
    "        ind = np.argpartition(all_distances,k_final)[:k_final]\n",
    "        nearest_labels = [training_labels[temp] for temp in ind]\n",
    "        pred_test_labels[i] = stats.mode(nearest_labels, axis=None)[0][0]\n",
    "    num_correct = 0\n",
    "    for ent in range(len(test_labels)):\n",
    "        if (test_labels[ent]==pred_test_labels[ent]):\n",
    "            num_correct += 1\n",
    "    ACCURACY = num_correct/len(test_labels)*100\n",
    "    TEST_PRED_LIST = pred_test_labels\n",
    "    \n",
    "    # clean up and return\n",
    "    predictions = pd.DataFrame({'prediction': TEST_PRED_LIST})\n",
    "    df = pd.concat([test, predictions], axis=1)\n",
    "    return ACCURACY, df"
   ]
  },
  {
   "cell_type": "markdown",
   "metadata": {},
   "source": [
    "# 5.5 Which classifier is better for this prediction task?"
   ]
  },
  {
   "cell_type": "code",
   "execution_count": 10,
   "metadata": {},
   "outputs": [
    {
     "data": {
      "text/plain": [
       "[100, 200, 463, 926, 1389, 1852, 2315, 2778, 3241, 3704, 4167]"
      ]
     },
     "execution_count": 10,
     "metadata": {},
     "output_type": "execute_result"
    }
   ],
   "source": [
    "# define numbers of training samples we are interested in\n",
    "training_samples_nums = [100,200]\n",
    "l = [463*i for i in range(1,10)]\n",
    "training_samples_nums = training_samples_nums + l\n",
    "training_samples_nums"
   ]
  },
  {
   "cell_type": "code",
   "execution_count": 11,
   "metadata": {},
   "outputs": [],
   "source": [
    "# knn_nums = [100, 200, 463, 926, 1389, 1852, 2315, 2778, 3241, 3334]"
   ]
  },
  {
   "cell_type": "code",
   "execution_count": 12,
   "metadata": {
    "collapsed": true
   },
   "outputs": [],
   "source": [
    "bayes_accuracies = []\n",
    "mle_accuracies = []\n",
    "knn_accuracies = []"
   ]
  },
  {
   "cell_type": "code",
   "execution_count": 14,
   "metadata": {},
   "outputs": [
    {
     "name": "stdout",
     "output_type": "stream",
     "text": [
      "100\n",
      "200\n",
      "463\n",
      "926\n",
      "1389\n",
      "1852\n",
      "2315\n",
      "2778\n",
      "3241\n",
      "3704\n",
      "4167\n"
     ]
    }
   ],
   "source": [
    "# find accuracies of classifiers\n",
    "for number in training_samples_nums:\n",
    "    print(number)\n",
    "    new_train = train.sample(number)\n",
    "    mle_accuracy, _ = mle.perform_mle(new_train, test)\n",
    "    mle_accuracies.append(mle_accuracy)"
   ]
  },
  {
   "cell_type": "code",
   "execution_count": 15,
   "metadata": {},
   "outputs": [
    {
     "name": "stdout",
     "output_type": "stream",
     "text": [
      "100\n",
      "200\n",
      "463\n",
      "926\n",
      "1389\n",
      "1852\n",
      "2315\n",
      "2778\n",
      "3241\n",
      "3704\n",
      "4167\n"
     ]
    }
   ],
   "source": [
    "for number in training_samples_nums:\n",
    "    print(number)\n",
    "    new_train = train.sample(number)\n",
    "    bayes_accuracy, _ = perform_naive_bayes(new_train, test)\n",
    "    bayes_accuracies.append(bayes_accuracy)"
   ]
  },
  {
   "cell_type": "code",
   "execution_count": 61,
   "metadata": {},
   "outputs": [
    {
     "name": "stdout",
     "output_type": "stream",
     "text": [
      "100\n",
      "200\n",
      "463\n",
      "926\n",
      "1389\n",
      "1852\n",
      "2315\n",
      "2778\n",
      "3241\n",
      "3704\n",
      "4167\n"
     ]
    }
   ],
   "source": [
    "for number in training_samples_nums:\n",
    "    print(number)\n",
    "    new_train = train.sample(number)\n",
    "    knn_accuracy, _ = perform_knn(new_train, test)\n",
    "    knn_accuracies.append(bayes_accuracy)"
   ]
  },
  {
   "cell_type": "code",
   "execution_count": 64,
   "metadata": {},
   "outputs": [
    {
     "data": {
      "text/plain": [
       "[0.6875,\n",
       " 0.6875,\n",
       " 0.6875,\n",
       " 0.6875,\n",
       " 0.6875,\n",
       " 0.6875,\n",
       " 0.6875,\n",
       " 0.6875,\n",
       " 0.6875,\n",
       " 0.6875,\n",
       " 0.6875,\n",
       " 0.6875,\n",
       " 0.6875]"
      ]
     },
     "execution_count": 64,
     "metadata": {},
     "output_type": "execute_result"
    }
   ],
   "source": [
    "knn_accuracies"
   ]
  },
  {
   "cell_type": "code",
   "execution_count": 62,
   "metadata": {},
   "outputs": [
    {
     "ename": "ValueError",
     "evalue": "x and y must have same first dimension, but have shapes (11,) and (13,)",
     "output_type": "error",
     "traceback": [
      "\u001b[0;31m---------------------------------------------------------------------------\u001b[0m",
      "\u001b[0;31mValueError\u001b[0m                                Traceback (most recent call last)",
      "\u001b[0;32m<ipython-input-62-a44697facff2>\u001b[0m in \u001b[0;36m<module>\u001b[0;34m()\u001b[0m\n\u001b[1;32m      1\u001b[0m \u001b[0mplt\u001b[0m\u001b[0;34m.\u001b[0m\u001b[0mplot\u001b[0m\u001b[0;34m(\u001b[0m\u001b[0mtraining_samples_nums\u001b[0m\u001b[0;34m,\u001b[0m \u001b[0mbayes_accuracies\u001b[0m\u001b[0;34m,\u001b[0m \u001b[0;34m'.-'\u001b[0m\u001b[0;34m)\u001b[0m\u001b[0;34m\u001b[0m\u001b[0m\n\u001b[1;32m      2\u001b[0m \u001b[0mplt\u001b[0m\u001b[0;34m.\u001b[0m\u001b[0mplot\u001b[0m\u001b[0;34m(\u001b[0m\u001b[0mtraining_samples_nums\u001b[0m\u001b[0;34m,\u001b[0m \u001b[0mmle_accuracies\u001b[0m\u001b[0;34m,\u001b[0m \u001b[0;34m'.-'\u001b[0m\u001b[0;34m)\u001b[0m\u001b[0;34m\u001b[0m\u001b[0m\n\u001b[0;32m----> 3\u001b[0;31m \u001b[0mplt\u001b[0m\u001b[0;34m.\u001b[0m\u001b[0mplot\u001b[0m\u001b[0;34m(\u001b[0m\u001b[0mtraining_samples_nums\u001b[0m\u001b[0;34m,\u001b[0m \u001b[0mknn_accuracies\u001b[0m\u001b[0;34m,\u001b[0m \u001b[0;34m'.-'\u001b[0m\u001b[0;34m)\u001b[0m\u001b[0;34m\u001b[0m\u001b[0m\n\u001b[0m\u001b[1;32m      4\u001b[0m \u001b[0mplt\u001b[0m\u001b[0;34m.\u001b[0m\u001b[0mshow\u001b[0m\u001b[0;34m(\u001b[0m\u001b[0;34m)\u001b[0m\u001b[0;34m\u001b[0m\u001b[0m\n",
      "\u001b[0;32m/anaconda3/lib/python3.6/site-packages/matplotlib/pyplot.py\u001b[0m in \u001b[0;36mplot\u001b[0;34m(*args, **kwargs)\u001b[0m\n\u001b[1;32m   3238\u001b[0m                       mplDeprecation)\n\u001b[1;32m   3239\u001b[0m     \u001b[0;32mtry\u001b[0m\u001b[0;34m:\u001b[0m\u001b[0;34m\u001b[0m\u001b[0m\n\u001b[0;32m-> 3240\u001b[0;31m         \u001b[0mret\u001b[0m \u001b[0;34m=\u001b[0m \u001b[0max\u001b[0m\u001b[0;34m.\u001b[0m\u001b[0mplot\u001b[0m\u001b[0;34m(\u001b[0m\u001b[0;34m*\u001b[0m\u001b[0margs\u001b[0m\u001b[0;34m,\u001b[0m \u001b[0;34m**\u001b[0m\u001b[0mkwargs\u001b[0m\u001b[0;34m)\u001b[0m\u001b[0;34m\u001b[0m\u001b[0m\n\u001b[0m\u001b[1;32m   3241\u001b[0m     \u001b[0;32mfinally\u001b[0m\u001b[0;34m:\u001b[0m\u001b[0;34m\u001b[0m\u001b[0m\n\u001b[1;32m   3242\u001b[0m         \u001b[0max\u001b[0m\u001b[0;34m.\u001b[0m\u001b[0m_hold\u001b[0m \u001b[0;34m=\u001b[0m \u001b[0mwashold\u001b[0m\u001b[0;34m\u001b[0m\u001b[0m\n",
      "\u001b[0;32m/anaconda3/lib/python3.6/site-packages/matplotlib/__init__.py\u001b[0m in \u001b[0;36minner\u001b[0;34m(ax, *args, **kwargs)\u001b[0m\n\u001b[1;32m   1708\u001b[0m                     warnings.warn(msg % (label_namer, func.__name__),\n\u001b[1;32m   1709\u001b[0m                                   RuntimeWarning, stacklevel=2)\n\u001b[0;32m-> 1710\u001b[0;31m             \u001b[0;32mreturn\u001b[0m \u001b[0mfunc\u001b[0m\u001b[0;34m(\u001b[0m\u001b[0max\u001b[0m\u001b[0;34m,\u001b[0m \u001b[0;34m*\u001b[0m\u001b[0margs\u001b[0m\u001b[0;34m,\u001b[0m \u001b[0;34m**\u001b[0m\u001b[0mkwargs\u001b[0m\u001b[0;34m)\u001b[0m\u001b[0;34m\u001b[0m\u001b[0m\n\u001b[0m\u001b[1;32m   1711\u001b[0m         \u001b[0mpre_doc\u001b[0m \u001b[0;34m=\u001b[0m \u001b[0minner\u001b[0m\u001b[0;34m.\u001b[0m\u001b[0m__doc__\u001b[0m\u001b[0;34m\u001b[0m\u001b[0m\n\u001b[1;32m   1712\u001b[0m         \u001b[0;32mif\u001b[0m \u001b[0mpre_doc\u001b[0m \u001b[0;32mis\u001b[0m \u001b[0;32mNone\u001b[0m\u001b[0;34m:\u001b[0m\u001b[0;34m\u001b[0m\u001b[0m\n",
      "\u001b[0;32m/anaconda3/lib/python3.6/site-packages/matplotlib/axes/_axes.py\u001b[0m in \u001b[0;36mplot\u001b[0;34m(self, *args, **kwargs)\u001b[0m\n\u001b[1;32m   1435\u001b[0m         \u001b[0mkwargs\u001b[0m \u001b[0;34m=\u001b[0m \u001b[0mcbook\u001b[0m\u001b[0;34m.\u001b[0m\u001b[0mnormalize_kwargs\u001b[0m\u001b[0;34m(\u001b[0m\u001b[0mkwargs\u001b[0m\u001b[0;34m,\u001b[0m \u001b[0m_alias_map\u001b[0m\u001b[0;34m)\u001b[0m\u001b[0;34m\u001b[0m\u001b[0m\n\u001b[1;32m   1436\u001b[0m \u001b[0;34m\u001b[0m\u001b[0m\n\u001b[0;32m-> 1437\u001b[0;31m         \u001b[0;32mfor\u001b[0m \u001b[0mline\u001b[0m \u001b[0;32min\u001b[0m \u001b[0mself\u001b[0m\u001b[0;34m.\u001b[0m\u001b[0m_get_lines\u001b[0m\u001b[0;34m(\u001b[0m\u001b[0;34m*\u001b[0m\u001b[0margs\u001b[0m\u001b[0;34m,\u001b[0m \u001b[0;34m**\u001b[0m\u001b[0mkwargs\u001b[0m\u001b[0;34m)\u001b[0m\u001b[0;34m:\u001b[0m\u001b[0;34m\u001b[0m\u001b[0m\n\u001b[0m\u001b[1;32m   1438\u001b[0m             \u001b[0mself\u001b[0m\u001b[0;34m.\u001b[0m\u001b[0madd_line\u001b[0m\u001b[0;34m(\u001b[0m\u001b[0mline\u001b[0m\u001b[0;34m)\u001b[0m\u001b[0;34m\u001b[0m\u001b[0m\n\u001b[1;32m   1439\u001b[0m             \u001b[0mlines\u001b[0m\u001b[0;34m.\u001b[0m\u001b[0mappend\u001b[0m\u001b[0;34m(\u001b[0m\u001b[0mline\u001b[0m\u001b[0;34m)\u001b[0m\u001b[0;34m\u001b[0m\u001b[0m\n",
      "\u001b[0;32m/anaconda3/lib/python3.6/site-packages/matplotlib/axes/_base.py\u001b[0m in \u001b[0;36m_grab_next_args\u001b[0;34m(self, *args, **kwargs)\u001b[0m\n\u001b[1;32m    402\u001b[0m                 \u001b[0mthis\u001b[0m \u001b[0;34m+=\u001b[0m \u001b[0margs\u001b[0m\u001b[0;34m[\u001b[0m\u001b[0;36m0\u001b[0m\u001b[0;34m]\u001b[0m\u001b[0;34m,\u001b[0m\u001b[0;34m\u001b[0m\u001b[0m\n\u001b[1;32m    403\u001b[0m                 \u001b[0margs\u001b[0m \u001b[0;34m=\u001b[0m \u001b[0margs\u001b[0m\u001b[0;34m[\u001b[0m\u001b[0;36m1\u001b[0m\u001b[0;34m:\u001b[0m\u001b[0;34m]\u001b[0m\u001b[0;34m\u001b[0m\u001b[0m\n\u001b[0;32m--> 404\u001b[0;31m             \u001b[0;32mfor\u001b[0m \u001b[0mseg\u001b[0m \u001b[0;32min\u001b[0m \u001b[0mself\u001b[0m\u001b[0;34m.\u001b[0m\u001b[0m_plot_args\u001b[0m\u001b[0;34m(\u001b[0m\u001b[0mthis\u001b[0m\u001b[0;34m,\u001b[0m \u001b[0mkwargs\u001b[0m\u001b[0;34m)\u001b[0m\u001b[0;34m:\u001b[0m\u001b[0;34m\u001b[0m\u001b[0m\n\u001b[0m\u001b[1;32m    405\u001b[0m                 \u001b[0;32myield\u001b[0m \u001b[0mseg\u001b[0m\u001b[0;34m\u001b[0m\u001b[0m\n\u001b[1;32m    406\u001b[0m \u001b[0;34m\u001b[0m\u001b[0m\n",
      "\u001b[0;32m/anaconda3/lib/python3.6/site-packages/matplotlib/axes/_base.py\u001b[0m in \u001b[0;36m_plot_args\u001b[0;34m(self, tup, kwargs)\u001b[0m\n\u001b[1;32m    382\u001b[0m             \u001b[0mx\u001b[0m\u001b[0;34m,\u001b[0m \u001b[0my\u001b[0m \u001b[0;34m=\u001b[0m \u001b[0mindex_of\u001b[0m\u001b[0;34m(\u001b[0m\u001b[0mtup\u001b[0m\u001b[0;34m[\u001b[0m\u001b[0;34m-\u001b[0m\u001b[0;36m1\u001b[0m\u001b[0;34m]\u001b[0m\u001b[0;34m)\u001b[0m\u001b[0;34m\u001b[0m\u001b[0m\n\u001b[1;32m    383\u001b[0m \u001b[0;34m\u001b[0m\u001b[0m\n\u001b[0;32m--> 384\u001b[0;31m         \u001b[0mx\u001b[0m\u001b[0;34m,\u001b[0m \u001b[0my\u001b[0m \u001b[0;34m=\u001b[0m \u001b[0mself\u001b[0m\u001b[0;34m.\u001b[0m\u001b[0m_xy_from_xy\u001b[0m\u001b[0;34m(\u001b[0m\u001b[0mx\u001b[0m\u001b[0;34m,\u001b[0m \u001b[0my\u001b[0m\u001b[0;34m)\u001b[0m\u001b[0;34m\u001b[0m\u001b[0m\n\u001b[0m\u001b[1;32m    385\u001b[0m \u001b[0;34m\u001b[0m\u001b[0m\n\u001b[1;32m    386\u001b[0m         \u001b[0;32mif\u001b[0m \u001b[0mself\u001b[0m\u001b[0;34m.\u001b[0m\u001b[0mcommand\u001b[0m \u001b[0;34m==\u001b[0m \u001b[0;34m'plot'\u001b[0m\u001b[0;34m:\u001b[0m\u001b[0;34m\u001b[0m\u001b[0m\n",
      "\u001b[0;32m/anaconda3/lib/python3.6/site-packages/matplotlib/axes/_base.py\u001b[0m in \u001b[0;36m_xy_from_xy\u001b[0;34m(self, x, y)\u001b[0m\n\u001b[1;32m    241\u001b[0m         \u001b[0;32mif\u001b[0m \u001b[0mx\u001b[0m\u001b[0;34m.\u001b[0m\u001b[0mshape\u001b[0m\u001b[0;34m[\u001b[0m\u001b[0;36m0\u001b[0m\u001b[0;34m]\u001b[0m \u001b[0;34m!=\u001b[0m \u001b[0my\u001b[0m\u001b[0;34m.\u001b[0m\u001b[0mshape\u001b[0m\u001b[0;34m[\u001b[0m\u001b[0;36m0\u001b[0m\u001b[0;34m]\u001b[0m\u001b[0;34m:\u001b[0m\u001b[0;34m\u001b[0m\u001b[0m\n\u001b[1;32m    242\u001b[0m             raise ValueError(\"x and y must have same first dimension, but \"\n\u001b[0;32m--> 243\u001b[0;31m                              \"have shapes {} and {}\".format(x.shape, y.shape))\n\u001b[0m\u001b[1;32m    244\u001b[0m         \u001b[0;32mif\u001b[0m \u001b[0mx\u001b[0m\u001b[0;34m.\u001b[0m\u001b[0mndim\u001b[0m \u001b[0;34m>\u001b[0m \u001b[0;36m2\u001b[0m \u001b[0;32mor\u001b[0m \u001b[0my\u001b[0m\u001b[0;34m.\u001b[0m\u001b[0mndim\u001b[0m \u001b[0;34m>\u001b[0m \u001b[0;36m2\u001b[0m\u001b[0;34m:\u001b[0m\u001b[0;34m\u001b[0m\u001b[0m\n\u001b[1;32m    245\u001b[0m             raise ValueError(\"x and y can be no greater than 2-D, but have \"\n",
      "\u001b[0;31mValueError\u001b[0m: x and y must have same first dimension, but have shapes (11,) and (13,)"
     ]
    },
    {
     "data": {
      "image/png": "[encoded data removed]",
      "text/plain": [
       "<matplotlib.figure.Figure at 0x1a13ef0b00>"
      ]
     },
     "metadata": {
      "needs_background": "light"
     },
     "output_type": "display_data"
    }
   ],
   "source": [
    "plt.plot(training_samples_nums, bayes_accuracies, '.-')\n",
    "plt.plot(training_samples_nums, mle_accuracies, '.-')\n",
    "plt.plot(training_samples_nums, knn_accuracies, '.-')\n",
    "plt.show()"
   ]
  }
 ],
 "metadata": {
  "kernelspec": {
   "display_name": "Python 3",
   "language": "python",
   "name": "python3"
  },
  "language_info": {
   "codemirror_mode": {
    "name": "ipython",
    "version": 3
   },
   "file_extension": ".py",
   "mimetype": "text/x-python",
   "name": "python",
   "nbconvert_exporter": "python",
   "pygments_lexer": "ipython3",
   "version": "3.6.3"
  }
 },
 "nbformat": 4,
 "nbformat_minor": 2
}

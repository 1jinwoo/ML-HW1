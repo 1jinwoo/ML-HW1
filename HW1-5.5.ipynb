{
 "cells": [
  {
   "cell_type": "code",
   "execution_count": 1,
   "metadata": {
    "collapsed": true
   },
   "outputs": [],
   "source": [
    "import numpy as np\n",
    "import pandas as pd\n",
    "import operator\n",
    "import random\n",
    "from scipy import stats\n",
    "import matplotlib.pyplot as plt\n",
    "import MLE_classifier as mle"
   ]
  },
  {
   "cell_type": "code",
   "execution_count": 2,
   "metadata": {
    "collapsed": true
   },
   "outputs": [],
   "source": [
    "train = pd.read_csv('hw1data/propublicaTrain.csv')\n",
    "test = pd.read_csv('hw1data/propublicaTest.csv')"
   ]
  },
  {
   "cell_type": "markdown",
   "metadata": {},
   "source": [
    "# 5.4.3 Naive Bayes"
   ]
  },
  {
   "cell_type": "code",
   "execution_count": 3,
   "metadata": {
    "collapsed": true
   },
   "outputs": [],
   "source": [
    "# Preprocessing\n",
    "def preprocess(df):\n",
    "    '''Remove c_charge_degree_M column due to redunduncy'''\n",
    "    return df.drop(labels=['c_charge_degree_M'], axis=1)"
   ]
  },
  {
   "cell_type": "code",
   "execution_count": 4,
   "metadata": {
    "collapsed": true
   },
   "outputs": [],
   "source": [
    "def naive_bayes_train(df, features, target='two_year_recid', k=1):\n",
    "    \"\"\"returns class conditional probability distribution and class prior as dictionaries\"\"\"\n",
    "    # initialize variables\n",
    "    sample_size, feature_dim = df.shape[0], len(features)\n",
    "    # print('sample_size, feature_dim: ', sample_size, feature_dim)\n",
    "    y_count = {} # {key = label : value = count of label in sample},\n",
    "    x_count = {} # dict of dicts of dicts = {key=label:value={key=feature:value={key=feature_val:value=count}}}\n",
    "    feature_given_class = {} # Pr[X=x|Y=y]\n",
    "    class_prior = {} # Pr[Y=y]\n",
    "    \n",
    "    # initialize dictionary keys\n",
    "    for label in df[target].unique():\n",
    "        y_count[label], class_prior[label] = 0, 0\n",
    "        x_count[label], feature_given_class[label] = {}, {}\n",
    "        for feature in features:\n",
    "            x_count[label][feature], feature_given_class[label][feature] = {}, {}\n",
    "    \n",
    "    # print('y_count: ', y_count)\n",
    "    # print('x_count: ', x_count)\n",
    "    \n",
    "    # update dictionary values\n",
    "    for index, row in df.iterrows():\n",
    "        label = row[target]\n",
    "        y_count[label] += 1\n",
    "        for feature in features:\n",
    "            feature_val = row[feature]\n",
    "            if feature_val in x_count[label][feature].keys():\n",
    "                x_count[label][feature][feature_val] += 1\n",
    "            else:\n",
    "                x_count[label][feature][feature_val] = 1\n",
    "    \n",
    "    # print('y_count: ', y_count)\n",
    "    # print('x_count: ', x_count)\n",
    "    \n",
    "    # find class prior probabilities\n",
    "    for label in class_prior.keys():\n",
    "        class_prior[label] = y_count[label]/sample_size\n",
    "    \n",
    "    # find feature given class probabilities with additive smoothing\n",
    "    for label in feature_given_class.keys():\n",
    "        for feature in feature_given_class[label].keys():\n",
    "            for feature_val in x_count[label][feature].keys():\n",
    "                feature_given_class[label][feature][feature_val] = \\\n",
    "                (x_count[label][feature][feature_val] + k) / (y_count[label] + k * feature_dim)\n",
    "    # print('class prior: ', class_prior)\n",
    "    # print('f|c: ', feature_given_class)\n",
    "    return class_prior, feature_given_class, y_count"
   ]
  },
  {
   "cell_type": "code",
   "execution_count": 5,
   "metadata": {
    "collapsed": true
   },
   "outputs": [],
   "source": [
    "def predict(series, features, class_prior, feature_given_class, y_count, k=1):\n",
    "    \"\"\"given a series, return a belief distribution over possible labels\"\"\"\n",
    "    belief = {}\n",
    "    for label in class_prior.keys():\n",
    "        prob = class_prior[label]\n",
    "        for feature in features:\n",
    "            feature_val = series[feature]\n",
    "            # print(feature, feature_val)\n",
    "            if feature_val in feature_given_class[label][feature]:\n",
    "                prob *= feature_given_class[label][feature][feature_val]\n",
    "            else:\n",
    "                prob *= k/(y_count[label] + k * len(features))\n",
    "        belief[label] = prob\n",
    "    return belief"
   ]
  },
  {
   "cell_type": "code",
   "execution_count": 6,
   "metadata": {
    "collapsed": true
   },
   "outputs": [],
   "source": [
    "def evaluate(df, features, class_prior, feature_given_class, y_count, target = 'two_year_recid'):\n",
    "    total_pred, accurate_pred = 0, 0\n",
    "    y_preds = []\n",
    "    for index, row in df.iterrows():\n",
    "        y = row[target]\n",
    "        belief = predict(row, features, class_prior, feature_given_class, y_count)\n",
    "        y_pred = max(belief.items(), key=operator.itemgetter(1))[0]\n",
    "        total_pred += 1\n",
    "        if y_pred == y:\n",
    "            accurate_pred += 1\n",
    "        y_preds.append(y_pred)\n",
    "    y_pred_df = pd.DataFrame({'prediction': y_preds})\n",
    "    df = pd.concat([df, y_pred_df], axis=1)\n",
    "    accuracy = accurate_pred/total_pred\n",
    "    return accuracy, df"
   ]
  },
  {
   "cell_type": "code",
   "execution_count": 7,
   "metadata": {
    "collapsed": true
   },
   "outputs": [],
   "source": [
    "def perform_naive_bayes(train, test):\n",
    "    train = preprocess(train)\n",
    "    test = preprocess(test)\n",
    "    features = list(train)[1:]\n",
    "    class_prior, feature_given_class, y_count = naive_bayes_train(train, features)\n",
    "    return evaluate(test, features, class_prior, feature_given_class, y_count)"
   ]
  },
  {
   "cell_type": "markdown",
   "metadata": {},
   "source": [
    "# K-NN"
   ]
  },
  {
   "cell_type": "code",
   "execution_count": 8,
   "metadata": {
    "collapsed": true
   },
   "outputs": [],
   "source": [
    "#Normed Distance\n",
    "def distance(x,y,p):\n",
    "    if (p=='inf'):\n",
    "        all_dist = np.zeros(np.shape(x)[0])\n",
    "        for i in range(np.shape(x)[0]):\n",
    "            all_dist[i] = abs(x[i]-y[i])\n",
    "        return np.amax(all_dist)\n",
    "    else:\n",
    "        sum = 0\n",
    "        for i in range(np.shape(x)[0]):\n",
    "            sum += (abs(x[i]-y[i]))**p\n",
    "        return sum**(1/p)\n"
   ]
  },
  {
   "cell_type": "code",
   "execution_count": 9,
   "metadata": {},
   "outputs": [],
   "source": [
    "def perform_knn(train, test):\n",
    "    #Training-Validation Split\n",
    "    raw_train_labels=np.array(train['two_year_recid'])\n",
    "    raw_train_input = np.array([np.array(train['sex']),np.array(train['age']),\n",
    "                                np.array(train['race']),np.array(train['juv_fel_count']),\n",
    "                                np.array(train['juv_misd_count']),np.array(train['juv_other_count']),\n",
    "                                np.array(train['priors_count']),np.array(train['c_charge_degree_F'])])\n",
    "    validation_pct = 20\n",
    "    val_size = validation_pct*len(raw_train_labels)//100\n",
    "    val_ind = random.sample(range(len(raw_train_labels)), val_size)\n",
    "    validation_input = np.zeros((8,val_size))\n",
    "    validation_labels = np.zeros(val_size)\n",
    "    training_input = np.zeros((8,len(raw_train_labels)-val_size))\n",
    "    training_labels = np.zeros(len(raw_train_labels)-val_size)\n",
    "    cat_names = ['sex','age','race','juv_fel_count','juv_misd_count','juv_other_count','priors_count','c_charge_degree_F']\n",
    "    val_cnt = 0\n",
    "    trn_cnt = 0\n",
    "    for i in range(len(raw_train_labels)):\n",
    "        if i in val_ind:\n",
    "            for j in range(len(cat_names)):\n",
    "                validation_input[j,val_cnt]=train[cat_names[j]].iloc[i]\n",
    "            validation_labels[val_cnt]=train['two_year_recid'].iloc[i]\n",
    "            val_cnt += 1\n",
    "        else:\n",
    "            for j in range(len(cat_names)):\n",
    "                training_input[j,trn_cnt]=train[cat_names[j]].iloc[i]\n",
    "            training_labels[trn_cnt]=train['two_year_recid'].iloc[i]\n",
    "            trn_cnt += 1\n",
    "    \n",
    "    #Reading in Test Data\n",
    "    test_labels = np.array(test['two_year_recid'])\n",
    "    test_input = np.array([np.array(test['sex']),np.array(test['age']),np.array(test['race']),\n",
    "                           np.array(test['juv_fel_count']),np.array(test['juv_misd_count']),\n",
    "                           np.array(test['juv_other_count']),np.array(test['priors_count']),\n",
    "                           np.array(test['c_charge_degree_F'])])\n",
    "    \n",
    "    #Running the best model, based on validation data, on our testing data\n",
    "    k_final=15\n",
    "    p_final=1\n",
    "    pred_test_labels = np.zeros(len(test_labels))\n",
    "    for i in range(len(test_labels)):\n",
    "        all_distances = np.zeros(len(training_labels))\n",
    "        for j in range(len(training_labels)):\n",
    "            all_distances[j]=distance(test_input[:,i],training_input[:,j],p_final)\n",
    "        ind = np.argpartition(all_distances,k_final)[:k_final]\n",
    "        nearest_labels = [training_labels[temp] for temp in ind]\n",
    "        pred_test_labels[i] = stats.mode(nearest_labels, axis=None)[0][0]\n",
    "    num_correct = 0\n",
    "    for ent in range(len(test_labels)):\n",
    "        if (test_labels[ent]==pred_test_labels[ent]):\n",
    "            num_correct += 1\n",
    "    ACCURACY = num_correct/len(test_labels)\n",
    "    TEST_PRED_LIST = pred_test_labels\n",
    "    \n",
    "    # clean up and return\n",
    "    predictions = pd.DataFrame({'prediction': TEST_PRED_LIST})\n",
    "    df = pd.concat([test, predictions], axis=1)\n",
    "    return ACCURACY, df"
   ]
  },
  {
   "cell_type": "markdown",
   "metadata": {},
   "source": [
    "# 5.5 Which classifier is better for this prediction task?"
   ]
  },
  {
   "cell_type": "code",
   "execution_count": 10,
   "metadata": {},
   "outputs": [
    {
     "data": {
      "text/plain": [
       "[100, 200, 463, 926, 1389, 1852, 2315, 2778, 3241, 3704, 4167]"
      ]
     },
     "execution_count": 10,
     "metadata": {},
     "output_type": "execute_result"
    }
   ],
   "source": [
    "# define numbers of training samples we are interested in\n",
    "training_samples_nums = [100,200]\n",
    "l = [463*i for i in range(1,10)]\n",
    "training_samples_nums = training_samples_nums + l\n",
    "training_samples_nums"
   ]
  },
  {
   "cell_type": "code",
   "execution_count": 11,
   "metadata": {},
   "outputs": [],
   "source": [
    "# knn_nums = [100, 200, 463, 926, 1389, 1852, 2315, 2778, 3241, 3334]"
   ]
  },
  {
   "cell_type": "code",
   "execution_count": 12,
   "metadata": {
    "collapsed": true
   },
   "outputs": [],
   "source": [
    "bayes_accuracies = []\n",
    "mle_accuracies = []\n",
    "knn_accuracies = []"
   ]
  },
  {
   "cell_type": "code",
   "execution_count": 16,
   "metadata": {
    "scrolled": true
   },
   "outputs": [
    {
     "name": "stdout",
     "output_type": "stream",
     "text": [
      "100\n",
      "200\n",
      "463\n",
      "926\n",
      "1389\n",
      "1852\n",
      "2315\n",
      "2778\n",
      "3241\n",
      "3704\n",
      "4167\n"
     ]
    }
   ],
   "source": [
    "# find accuracies of classifiers\n",
    "for number in training_samples_nums:\n",
    "    print(number)\n",
    "    new_train = train.sample(number)\n",
    "    mle_accuracy, _ = mle.perform_mle(new_train, test)\n",
    "    mle_accuracies.append(mle_accuracy)"
   ]
  },
  {
   "cell_type": "code",
   "execution_count": 17,
   "metadata": {},
   "outputs": [
    {
     "data": {
      "text/plain": [
       "11"
      ]
     },
     "execution_count": 17,
     "metadata": {},
     "output_type": "execute_result"
    }
   ],
   "source": [
    "len(mle_accuracies)"
   ]
  },
  {
   "cell_type": "code",
   "execution_count": 18,
   "metadata": {},
   "outputs": [
    {
     "name": "stdout",
     "output_type": "stream",
     "text": [
      "100\n",
      "200\n",
      "463\n",
      "926\n",
      "1389\n",
      "1852\n",
      "2315\n",
      "2778\n",
      "3241\n",
      "3704\n",
      "4167\n"
     ]
    }
   ],
   "source": [
    "for number in training_samples_nums:\n",
    "    print(number)\n",
    "    new_train = train.sample(number)\n",
    "    bayes_accuracy, _ = perform_naive_bayes(new_train, test)\n",
    "    bayes_accuracies.append(bayes_accuracy)"
   ]
  },
  {
   "cell_type": "code",
   "execution_count": 19,
   "metadata": {},
   "outputs": [
    {
     "name": "stdout",
     "output_type": "stream",
     "text": [
      "100\n",
      "100\n",
      "200\n",
      "200\n",
      "463\n",
      "463\n",
      "926\n",
      "926\n",
      "1389\n",
      "1389\n",
      "1852\n",
      "1852\n",
      "2315\n",
      "2315\n",
      "2778\n",
      "2778\n",
      "3241\n",
      "3241\n",
      "3704\n",
      "3704\n",
      "4167\n",
      "4167\n"
     ]
    }
   ],
   "source": [
    "for number in training_samples_nums:\n",
    "    print(number)\n",
    "    new_train = train.sample(number)\n",
    "    print(len(new_train))\n",
    "    knn_accuracy, _ = perform_knn(new_train, test)\n",
    "    knn_accuracies.append(knn_accuracy)"
   ]
  },
  {
   "cell_type": "code",
   "execution_count": 20,
   "metadata": {},
   "outputs": [
    {
     "data": {
      "text/plain": [
       "11"
      ]
     },
     "execution_count": 20,
     "metadata": {},
     "output_type": "execute_result"
    }
   ],
   "source": [
    "len(knn_accuracies)"
   ]
  },
  {
   "cell_type": "code",
   "execution_count": 21,
   "metadata": {},
   "outputs": [
    {
     "data": {
      "text/plain": [
       "[0.607,\n",
       " 0.657,\n",
       " 0.651,\n",
       " 0.6665,\n",
       " 0.6735,\n",
       " 0.673,\n",
       " 0.674,\n",
       " 0.6655,\n",
       " 0.6675,\n",
       " 0.6625,\n",
       " 0.672]"
      ]
     },
     "execution_count": 21,
     "metadata": {},
     "output_type": "execute_result"
    }
   ],
   "source": [
    "knn_accuracies"
   ]
  },
  {
   "cell_type": "code",
   "execution_count": 22,
   "metadata": {},
   "outputs": [
    {
     "data": {
      "text/plain": [
       "[0.6605,\n",
       " 0.6155,\n",
       " 0.6225,\n",
       " 0.6285,\n",
       " 0.638,\n",
       " 0.6325,\n",
       " 0.6405,\n",
       " 0.6385,\n",
       " 0.6375,\n",
       " 0.6345,\n",
       " 0.633]"
      ]
     },
     "execution_count": 22,
     "metadata": {},
     "output_type": "execute_result"
    }
   ],
   "source": [
    "mle_accuracies"
   ]
  },
  {
   "cell_type": "code",
   "execution_count": 23,
   "metadata": {},
   "outputs": [
    {
     "data": {
      "text/plain": [
       "[0.6405,\n",
       " 0.606,\n",
       " 0.657,\n",
       " 0.6595,\n",
       " 0.6775,\n",
       " 0.671,\n",
       " 0.683,\n",
       " 0.6765,\n",
       " 0.6785,\n",
       " 0.687,\n",
       " 0.6875]"
      ]
     },
     "execution_count": 23,
     "metadata": {},
     "output_type": "execute_result"
    }
   ],
   "source": [
    "bayes_accuracies"
   ]
  },
  {
   "cell_type": "code",
   "execution_count": 25,
   "metadata": {
    "scrolled": true
   },
   "outputs": [
    {
     "data": {
      "image/png": "[encoded data removed]",
      "text/plain": [
       "<matplotlib.figure.Figure at 0x1a19fa77b8>"
      ]
     },
     "metadata": {
      "needs_background": "light"
     },
     "output_type": "display_data"
    }
   ],
   "source": [
    "plt.plot(training_samples_nums, mle_accuracies,'.-', label='MLE')\n",
    "plt.plot(training_samples_nums, knn_accuracies,'.-', label='KNN')\n",
    "plt.plot(training_samples_nums, bayes_accuracies,'.-', label='Naive Bayes')\n",
    "plt.ylabel('Accuracy')\n",
    "plt.xlabel('Number of Samples')\n",
    "plt.legend(loc='upper left')\n",
    "plt.show()\n"
   ]
  }
 ],
 "metadata": {
  "kernelspec": {
   "display_name": "Python 3",
   "language": "python",
   "name": "python3"
  },
  "language_info": {
   "codemirror_mode": {
    "name": "ipython",
    "version": 3
   },
   "file_extension": ".py",
   "mimetype": "text/x-python",
   "name": "python",
   "nbconvert_exporter": "python",
   "pygments_lexer": "ipython3",
   "version": "3.6.3"
  }
 },
 "nbformat": 4,
 "nbformat_minor": 2
}

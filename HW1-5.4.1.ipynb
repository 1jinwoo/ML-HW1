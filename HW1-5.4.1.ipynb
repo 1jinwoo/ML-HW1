{
 "cells": [
  {
   "cell_type": "code",
   "execution_count": 1,
   "metadata": {},
   "outputs": [],
   "source": [
    "import numpy as np\n",
    "import pandas as pd"
   ]
  },
  {
   "cell_type": "code",
   "execution_count": 2,
   "metadata": {},
   "outputs": [],
   "source": [
    "train = pd.read_csv('hw1data/propublicaTrain.csv')\n",
    "test = pd.read_csv('hw1data/propublicaTest.csv')"
   ]
  },
  {
   "cell_type": "code",
   "execution_count": 3,
   "metadata": {
    "scrolled": true
   },
   "outputs": [
    {
     "data": {
      "text/html": [
       "<div>\n",
       "<style scoped>\n",
       "    .dataframe tbody tr th:only-of-type {\n",
       "        vertical-align: middle;\n",
       "    }\n",
       "\n",
       "    .dataframe tbody tr th {\n",
       "        vertical-align: top;\n",
       "    }\n",
       "\n",
       "    .dataframe thead th {\n",
       "        text-align: right;\n",
       "    }\n",
       "</style>\n",
       "<table border=\"1\" class=\"dataframe\">\n",
       "  <thead>\n",
       "    <tr style=\"text-align: right;\">\n",
       "      <th></th>\n",
       "      <th>two_year_recid</th>\n",
       "      <th>sex</th>\n",
       "      <th>age</th>\n",
       "      <th>race</th>\n",
       "      <th>juv_fel_count</th>\n",
       "      <th>juv_misd_count</th>\n",
       "      <th>juv_other_count</th>\n",
       "      <th>priors_count</th>\n",
       "      <th>c_charge_degree_F</th>\n",
       "      <th>c_charge_degree_M</th>\n",
       "    </tr>\n",
       "  </thead>\n",
       "  <tbody>\n",
       "    <tr>\n",
       "      <th>0</th>\n",
       "      <td>0</td>\n",
       "      <td>1</td>\n",
       "      <td>64</td>\n",
       "      <td>0</td>\n",
       "      <td>0</td>\n",
       "      <td>0</td>\n",
       "      <td>0</td>\n",
       "      <td>13</td>\n",
       "      <td>0</td>\n",
       "      <td>1</td>\n",
       "    </tr>\n",
       "    <tr>\n",
       "      <th>1</th>\n",
       "      <td>0</td>\n",
       "      <td>1</td>\n",
       "      <td>28</td>\n",
       "      <td>0</td>\n",
       "      <td>0</td>\n",
       "      <td>0</td>\n",
       "      <td>0</td>\n",
       "      <td>1</td>\n",
       "      <td>1</td>\n",
       "      <td>0</td>\n",
       "    </tr>\n",
       "    <tr>\n",
       "      <th>2</th>\n",
       "      <td>0</td>\n",
       "      <td>1</td>\n",
       "      <td>32</td>\n",
       "      <td>0</td>\n",
       "      <td>0</td>\n",
       "      <td>0</td>\n",
       "      <td>0</td>\n",
       "      <td>1</td>\n",
       "      <td>1</td>\n",
       "      <td>0</td>\n",
       "    </tr>\n",
       "    <tr>\n",
       "      <th>3</th>\n",
       "      <td>1</td>\n",
       "      <td>1</td>\n",
       "      <td>20</td>\n",
       "      <td>0</td>\n",
       "      <td>0</td>\n",
       "      <td>1</td>\n",
       "      <td>1</td>\n",
       "      <td>2</td>\n",
       "      <td>1</td>\n",
       "      <td>0</td>\n",
       "    </tr>\n",
       "    <tr>\n",
       "      <th>4</th>\n",
       "      <td>0</td>\n",
       "      <td>1</td>\n",
       "      <td>43</td>\n",
       "      <td>1</td>\n",
       "      <td>0</td>\n",
       "      <td>0</td>\n",
       "      <td>0</td>\n",
       "      <td>8</td>\n",
       "      <td>1</td>\n",
       "      <td>0</td>\n",
       "    </tr>\n",
       "  </tbody>\n",
       "</table>\n",
       "</div>"
      ],
      "text/plain": [
       "   two_year_recid  sex  age  race  juv_fel_count  juv_misd_count  \\\n",
       "0               0    1   64     0              0               0   \n",
       "1               0    1   28     0              0               0   \n",
       "2               0    1   32     0              0               0   \n",
       "3               1    1   20     0              0               1   \n",
       "4               0    1   43     1              0               0   \n",
       "\n",
       "   juv_other_count  priors_count  c_charge_degree_F  c_charge_degree_M  \n",
       "0                0            13                  0                  1  \n",
       "1                0             1                  1                  0  \n",
       "2                0             1                  1                  0  \n",
       "3                1             2                  1                  0  \n",
       "4                0             8                  1                  0  "
      ]
     },
     "execution_count": 3,
     "metadata": {},
     "output_type": "execute_result"
    }
   ],
   "source": [
    "train.head()"
   ]
  },
  {
   "cell_type": "code",
   "execution_count": 4,
   "metadata": {},
   "outputs": [
    {
     "data": {
      "text/html": [
       "<div>\n",
       "<style scoped>\n",
       "    .dataframe tbody tr th:only-of-type {\n",
       "        vertical-align: middle;\n",
       "    }\n",
       "\n",
       "    .dataframe tbody tr th {\n",
       "        vertical-align: top;\n",
       "    }\n",
       "\n",
       "    .dataframe thead th {\n",
       "        text-align: right;\n",
       "    }\n",
       "</style>\n",
       "<table border=\"1\" class=\"dataframe\">\n",
       "  <thead>\n",
       "    <tr style=\"text-align: right;\">\n",
       "      <th></th>\n",
       "      <th>two_year_recid</th>\n",
       "      <th>sex</th>\n",
       "      <th>age</th>\n",
       "      <th>race</th>\n",
       "      <th>juv_fel_count</th>\n",
       "      <th>juv_misd_count</th>\n",
       "      <th>juv_other_count</th>\n",
       "      <th>priors_count</th>\n",
       "      <th>c_charge_degree_F</th>\n",
       "      <th>c_charge_degree_M</th>\n",
       "    </tr>\n",
       "  </thead>\n",
       "  <tbody>\n",
       "    <tr>\n",
       "      <th>count</th>\n",
       "      <td>4167.000000</td>\n",
       "      <td>4167.000000</td>\n",
       "      <td>4167.000000</td>\n",
       "      <td>4167.000000</td>\n",
       "      <td>4167.000000</td>\n",
       "      <td>4167.000000</td>\n",
       "      <td>4167.000000</td>\n",
       "      <td>4167.000000</td>\n",
       "      <td>4167.000000</td>\n",
       "      <td>4167.000000</td>\n",
       "    </tr>\n",
       "    <tr>\n",
       "      <th>mean</th>\n",
       "      <td>0.455964</td>\n",
       "      <td>0.813775</td>\n",
       "      <td>34.409167</td>\n",
       "      <td>0.344612</td>\n",
       "      <td>0.055916</td>\n",
       "      <td>0.089513</td>\n",
       "      <td>0.110631</td>\n",
       "      <td>3.278138</td>\n",
       "      <td>0.645308</td>\n",
       "      <td>0.354692</td>\n",
       "    </tr>\n",
       "    <tr>\n",
       "      <th>std</th>\n",
       "      <td>0.498117</td>\n",
       "      <td>0.389335</td>\n",
       "      <td>11.570853</td>\n",
       "      <td>0.475299</td>\n",
       "      <td>0.379495</td>\n",
       "      <td>0.486893</td>\n",
       "      <td>0.464278</td>\n",
       "      <td>4.770756</td>\n",
       "      <td>0.478477</td>\n",
       "      <td>0.478477</td>\n",
       "    </tr>\n",
       "    <tr>\n",
       "      <th>min</th>\n",
       "      <td>0.000000</td>\n",
       "      <td>0.000000</td>\n",
       "      <td>18.000000</td>\n",
       "      <td>0.000000</td>\n",
       "      <td>0.000000</td>\n",
       "      <td>0.000000</td>\n",
       "      <td>0.000000</td>\n",
       "      <td>0.000000</td>\n",
       "      <td>0.000000</td>\n",
       "      <td>0.000000</td>\n",
       "    </tr>\n",
       "    <tr>\n",
       "      <th>25%</th>\n",
       "      <td>0.000000</td>\n",
       "      <td>1.000000</td>\n",
       "      <td>25.000000</td>\n",
       "      <td>0.000000</td>\n",
       "      <td>0.000000</td>\n",
       "      <td>0.000000</td>\n",
       "      <td>0.000000</td>\n",
       "      <td>0.000000</td>\n",
       "      <td>0.000000</td>\n",
       "      <td>0.000000</td>\n",
       "    </tr>\n",
       "    <tr>\n",
       "      <th>50%</th>\n",
       "      <td>0.000000</td>\n",
       "      <td>1.000000</td>\n",
       "      <td>31.000000</td>\n",
       "      <td>0.000000</td>\n",
       "      <td>0.000000</td>\n",
       "      <td>0.000000</td>\n",
       "      <td>0.000000</td>\n",
       "      <td>1.000000</td>\n",
       "      <td>1.000000</td>\n",
       "      <td>0.000000</td>\n",
       "    </tr>\n",
       "    <tr>\n",
       "      <th>75%</th>\n",
       "      <td>1.000000</td>\n",
       "      <td>1.000000</td>\n",
       "      <td>42.000000</td>\n",
       "      <td>1.000000</td>\n",
       "      <td>0.000000</td>\n",
       "      <td>0.000000</td>\n",
       "      <td>0.000000</td>\n",
       "      <td>4.000000</td>\n",
       "      <td>1.000000</td>\n",
       "      <td>1.000000</td>\n",
       "    </tr>\n",
       "    <tr>\n",
       "      <th>max</th>\n",
       "      <td>1.000000</td>\n",
       "      <td>1.000000</td>\n",
       "      <td>83.000000</td>\n",
       "      <td>1.000000</td>\n",
       "      <td>8.000000</td>\n",
       "      <td>13.000000</td>\n",
       "      <td>7.000000</td>\n",
       "      <td>38.000000</td>\n",
       "      <td>1.000000</td>\n",
       "      <td>1.000000</td>\n",
       "    </tr>\n",
       "  </tbody>\n",
       "</table>\n",
       "</div>"
      ],
      "text/plain": [
       "       two_year_recid          sex          age         race  juv_fel_count  \\\n",
       "count     4167.000000  4167.000000  4167.000000  4167.000000    4167.000000   \n",
       "mean         0.455964     0.813775    34.409167     0.344612       0.055916   \n",
       "std          0.498117     0.389335    11.570853     0.475299       0.379495   \n",
       "min          0.000000     0.000000    18.000000     0.000000       0.000000   \n",
       "25%          0.000000     1.000000    25.000000     0.000000       0.000000   \n",
       "50%          0.000000     1.000000    31.000000     0.000000       0.000000   \n",
       "75%          1.000000     1.000000    42.000000     1.000000       0.000000   \n",
       "max          1.000000     1.000000    83.000000     1.000000       8.000000   \n",
       "\n",
       "       juv_misd_count  juv_other_count  priors_count  c_charge_degree_F  \\\n",
       "count     4167.000000      4167.000000   4167.000000        4167.000000   \n",
       "mean         0.089513         0.110631      3.278138           0.645308   \n",
       "std          0.486893         0.464278      4.770756           0.478477   \n",
       "min          0.000000         0.000000      0.000000           0.000000   \n",
       "25%          0.000000         0.000000      0.000000           0.000000   \n",
       "50%          0.000000         0.000000      1.000000           1.000000   \n",
       "75%          0.000000         0.000000      4.000000           1.000000   \n",
       "max         13.000000         7.000000     38.000000           1.000000   \n",
       "\n",
       "       c_charge_degree_M  \n",
       "count        4167.000000  \n",
       "mean            0.354692  \n",
       "std             0.478477  \n",
       "min             0.000000  \n",
       "25%             0.000000  \n",
       "50%             0.000000  \n",
       "75%             1.000000  \n",
       "max             1.000000  "
      ]
     },
     "execution_count": 4,
     "metadata": {},
     "output_type": "execute_result"
    }
   ],
   "source": [
    "train.describe()"
   ]
  },
  {
   "cell_type": "code",
   "execution_count": 5,
   "metadata": {},
   "outputs": [
    {
     "data": {
      "text/html": [
       "<div>\n",
       "<style scoped>\n",
       "    .dataframe tbody tr th:only-of-type {\n",
       "        vertical-align: middle;\n",
       "    }\n",
       "\n",
       "    .dataframe tbody tr th {\n",
       "        vertical-align: top;\n",
       "    }\n",
       "\n",
       "    .dataframe thead th {\n",
       "        text-align: right;\n",
       "    }\n",
       "</style>\n",
       "<table border=\"1\" class=\"dataframe\">\n",
       "  <thead>\n",
       "    <tr style=\"text-align: right;\">\n",
       "      <th></th>\n",
       "      <th>two_year_recid</th>\n",
       "      <th>sex</th>\n",
       "      <th>age</th>\n",
       "      <th>race</th>\n",
       "      <th>juv_fel_count</th>\n",
       "      <th>juv_misd_count</th>\n",
       "      <th>juv_other_count</th>\n",
       "      <th>priors_count</th>\n",
       "      <th>c_charge_degree_F</th>\n",
       "      <th>c_charge_degree_M</th>\n",
       "    </tr>\n",
       "  </thead>\n",
       "  <tbody>\n",
       "    <tr>\n",
       "      <th>count</th>\n",
       "      <td>2000.00000</td>\n",
       "      <td>2000.00000</td>\n",
       "      <td>2000.000000</td>\n",
       "      <td>2000.000000</td>\n",
       "      <td>2000.00000</td>\n",
       "      <td>2000.000000</td>\n",
       "      <td>2000.000000</td>\n",
       "      <td>2000.000000</td>\n",
       "      <td>2000.000000</td>\n",
       "      <td>2000.000000</td>\n",
       "    </tr>\n",
       "    <tr>\n",
       "      <th>mean</th>\n",
       "      <td>0.45450</td>\n",
       "      <td>0.80150</td>\n",
       "      <td>34.787500</td>\n",
       "      <td>0.332000</td>\n",
       "      <td>0.06600</td>\n",
       "      <td>0.095000</td>\n",
       "      <td>0.111000</td>\n",
       "      <td>3.183500</td>\n",
       "      <td>0.638500</td>\n",
       "      <td>0.361500</td>\n",
       "    </tr>\n",
       "    <tr>\n",
       "      <th>std</th>\n",
       "      <td>0.49805</td>\n",
       "      <td>0.39897</td>\n",
       "      <td>12.042253</td>\n",
       "      <td>0.471049</td>\n",
       "      <td>0.60235</td>\n",
       "      <td>0.520683</td>\n",
       "      <td>0.484558</td>\n",
       "      <td>4.692423</td>\n",
       "      <td>0.480555</td>\n",
       "      <td>0.480555</td>\n",
       "    </tr>\n",
       "    <tr>\n",
       "      <th>min</th>\n",
       "      <td>0.00000</td>\n",
       "      <td>0.00000</td>\n",
       "      <td>19.000000</td>\n",
       "      <td>0.000000</td>\n",
       "      <td>0.00000</td>\n",
       "      <td>0.000000</td>\n",
       "      <td>0.000000</td>\n",
       "      <td>0.000000</td>\n",
       "      <td>0.000000</td>\n",
       "      <td>0.000000</td>\n",
       "    </tr>\n",
       "    <tr>\n",
       "      <th>25%</th>\n",
       "      <td>0.00000</td>\n",
       "      <td>1.00000</td>\n",
       "      <td>25.000000</td>\n",
       "      <td>0.000000</td>\n",
       "      <td>0.00000</td>\n",
       "      <td>0.000000</td>\n",
       "      <td>0.000000</td>\n",
       "      <td>0.000000</td>\n",
       "      <td>0.000000</td>\n",
       "      <td>0.000000</td>\n",
       "    </tr>\n",
       "    <tr>\n",
       "      <th>50%</th>\n",
       "      <td>0.00000</td>\n",
       "      <td>1.00000</td>\n",
       "      <td>31.000000</td>\n",
       "      <td>0.000000</td>\n",
       "      <td>0.00000</td>\n",
       "      <td>0.000000</td>\n",
       "      <td>0.000000</td>\n",
       "      <td>1.000000</td>\n",
       "      <td>1.000000</td>\n",
       "      <td>0.000000</td>\n",
       "    </tr>\n",
       "    <tr>\n",
       "      <th>75%</th>\n",
       "      <td>1.00000</td>\n",
       "      <td>1.00000</td>\n",
       "      <td>42.000000</td>\n",
       "      <td>1.000000</td>\n",
       "      <td>0.00000</td>\n",
       "      <td>0.000000</td>\n",
       "      <td>0.000000</td>\n",
       "      <td>4.000000</td>\n",
       "      <td>1.000000</td>\n",
       "      <td>1.000000</td>\n",
       "    </tr>\n",
       "    <tr>\n",
       "      <th>max</th>\n",
       "      <td>1.00000</td>\n",
       "      <td>1.00000</td>\n",
       "      <td>96.000000</td>\n",
       "      <td>1.000000</td>\n",
       "      <td>20.00000</td>\n",
       "      <td>12.000000</td>\n",
       "      <td>9.000000</td>\n",
       "      <td>36.000000</td>\n",
       "      <td>1.000000</td>\n",
       "      <td>1.000000</td>\n",
       "    </tr>\n",
       "  </tbody>\n",
       "</table>\n",
       "</div>"
      ],
      "text/plain": [
       "       two_year_recid         sex          age         race  juv_fel_count  \\\n",
       "count      2000.00000  2000.00000  2000.000000  2000.000000     2000.00000   \n",
       "mean          0.45450     0.80150    34.787500     0.332000        0.06600   \n",
       "std           0.49805     0.39897    12.042253     0.471049        0.60235   \n",
       "min           0.00000     0.00000    19.000000     0.000000        0.00000   \n",
       "25%           0.00000     1.00000    25.000000     0.000000        0.00000   \n",
       "50%           0.00000     1.00000    31.000000     0.000000        0.00000   \n",
       "75%           1.00000     1.00000    42.000000     1.000000        0.00000   \n",
       "max           1.00000     1.00000    96.000000     1.000000       20.00000   \n",
       "\n",
       "       juv_misd_count  juv_other_count  priors_count  c_charge_degree_F  \\\n",
       "count     2000.000000      2000.000000   2000.000000        2000.000000   \n",
       "mean         0.095000         0.111000      3.183500           0.638500   \n",
       "std          0.520683         0.484558      4.692423           0.480555   \n",
       "min          0.000000         0.000000      0.000000           0.000000   \n",
       "25%          0.000000         0.000000      0.000000           0.000000   \n",
       "50%          0.000000         0.000000      1.000000           1.000000   \n",
       "75%          0.000000         0.000000      4.000000           1.000000   \n",
       "max         12.000000         9.000000     36.000000           1.000000   \n",
       "\n",
       "       c_charge_degree_M  \n",
       "count        2000.000000  \n",
       "mean            0.361500  \n",
       "std             0.480555  \n",
       "min             0.000000  \n",
       "25%             0.000000  \n",
       "50%             0.000000  \n",
       "75%             1.000000  \n",
       "max             1.000000  "
      ]
     },
     "execution_count": 5,
     "metadata": {},
     "output_type": "execute_result"
    }
   ],
   "source": [
    "test.describe()"
   ]
  },
  {
   "cell_type": "markdown",
   "metadata": {},
   "source": [
    "NOTE:\n",
    "- two_year_recid (Y), sex, race, c_charge_degree_F are categorical\n",
    "- c_charge_degree_M is ignored because c_charge_degree_F includes all information about the column"
   ]
  },
  {
   "cell_type": "markdown",
   "metadata": {},
   "source": [
    "# Training"
   ]
  },
  {
   "cell_type": "markdown",
   "metadata": {},
   "source": [
    "### Mutlivariate Guassian Distibution fitting"
   ]
  },
  {
   "cell_type": "code",
   "execution_count": 6,
   "metadata": {},
   "outputs": [
    {
     "data": {
      "text/html": [
       "<div>\n",
       "<style scoped>\n",
       "    .dataframe tbody tr th:only-of-type {\n",
       "        vertical-align: middle;\n",
       "    }\n",
       "\n",
       "    .dataframe tbody tr th {\n",
       "        vertical-align: top;\n",
       "    }\n",
       "\n",
       "    .dataframe thead th {\n",
       "        text-align: right;\n",
       "    }\n",
       "</style>\n",
       "<table border=\"1\" class=\"dataframe\">\n",
       "  <thead>\n",
       "    <tr style=\"text-align: right;\">\n",
       "      <th></th>\n",
       "      <th>two_year_recid</th>\n",
       "      <th>sex</th>\n",
       "      <th>age</th>\n",
       "      <th>race</th>\n",
       "      <th>juv_fel_count</th>\n",
       "      <th>juv_misd_count</th>\n",
       "      <th>juv_other_count</th>\n",
       "      <th>priors_count</th>\n",
       "      <th>c_charge_degree_F</th>\n",
       "    </tr>\n",
       "  </thead>\n",
       "  <tbody>\n",
       "    <tr>\n",
       "      <th>0</th>\n",
       "      <td>0</td>\n",
       "      <td>1</td>\n",
       "      <td>64</td>\n",
       "      <td>0</td>\n",
       "      <td>0</td>\n",
       "      <td>0</td>\n",
       "      <td>0</td>\n",
       "      <td>13</td>\n",
       "      <td>0</td>\n",
       "    </tr>\n",
       "    <tr>\n",
       "      <th>1</th>\n",
       "      <td>0</td>\n",
       "      <td>1</td>\n",
       "      <td>28</td>\n",
       "      <td>0</td>\n",
       "      <td>0</td>\n",
       "      <td>0</td>\n",
       "      <td>0</td>\n",
       "      <td>1</td>\n",
       "      <td>1</td>\n",
       "    </tr>\n",
       "    <tr>\n",
       "      <th>2</th>\n",
       "      <td>0</td>\n",
       "      <td>1</td>\n",
       "      <td>32</td>\n",
       "      <td>0</td>\n",
       "      <td>0</td>\n",
       "      <td>0</td>\n",
       "      <td>0</td>\n",
       "      <td>1</td>\n",
       "      <td>1</td>\n",
       "    </tr>\n",
       "    <tr>\n",
       "      <th>3</th>\n",
       "      <td>1</td>\n",
       "      <td>1</td>\n",
       "      <td>20</td>\n",
       "      <td>0</td>\n",
       "      <td>0</td>\n",
       "      <td>1</td>\n",
       "      <td>1</td>\n",
       "      <td>2</td>\n",
       "      <td>1</td>\n",
       "    </tr>\n",
       "    <tr>\n",
       "      <th>4</th>\n",
       "      <td>0</td>\n",
       "      <td>1</td>\n",
       "      <td>43</td>\n",
       "      <td>1</td>\n",
       "      <td>0</td>\n",
       "      <td>0</td>\n",
       "      <td>0</td>\n",
       "      <td>8</td>\n",
       "      <td>1</td>\n",
       "    </tr>\n",
       "  </tbody>\n",
       "</table>\n",
       "</div>"
      ],
      "text/plain": [
       "   two_year_recid  sex  age  race  juv_fel_count  juv_misd_count  \\\n",
       "0               0    1   64     0              0               0   \n",
       "1               0    1   28     0              0               0   \n",
       "2               0    1   32     0              0               0   \n",
       "3               1    1   20     0              0               1   \n",
       "4               0    1   43     1              0               0   \n",
       "\n",
       "   juv_other_count  priors_count  c_charge_degree_F  \n",
       "0                0            13                  0  \n",
       "1                0             1                  1  \n",
       "2                0             1                  1  \n",
       "3                1             2                  1  \n",
       "4                0             8                  1  "
      ]
     },
     "execution_count": 6,
     "metadata": {},
     "output_type": "execute_result"
    }
   ],
   "source": [
    "# Preprocessing\n",
    "def preprocess(df):\n",
    "    '''Remove c_charge_degree_M column due to redunduncy'''\n",
    "    return df.drop(labels=['c_charge_degree_M'], axis=1)\n",
    "\n",
    "train_df = preprocess(train)\n",
    "test_df = preprocess(test)\n",
    "train_df.head()"
   ]
  },
  {
   "cell_type": "code",
   "execution_count": 7,
   "metadata": {},
   "outputs": [],
   "source": [
    "# Split the data into categorical and quantitative\n",
    "def split_categorical_and_quant(df):\n",
    "    categorical_cols = ['two_year_recid', 'sex', 'race', 'c_charge_degree_F']\n",
    "    # Need to include 'two_year_recid' in both because it is the target y\n",
    "    quantitative_cols = ['two_year_recid', 'age', 'juv_fel_count', 'juv_misd_count', 'juv_other_count', 'priors_count']\n",
    "    return df[categorical_cols], df[quantitative_cols]\n",
    "\n",
    "categ_train_df, quant_train_df = split_categorical_and_quant(train_df)\n",
    "categ_test_df, quant_test_df = split_categorical_and_quant(test_df)"
   ]
  },
  {
   "cell_type": "code",
   "execution_count": 8,
   "metadata": {},
   "outputs": [],
   "source": [
    "# Split the data into y = 0 and y = 1\n",
    "def split_by_y(df):\n",
    "    return df.loc[df['two_year_recid'] == 0, :], df.loc[df['two_year_recid'] == 1, :]\n",
    "\n",
    "categ_0_train_df, categ_1_train_df = split_by_y(categ_train_df)\n",
    "quant_0_train_df, quant_1_train_df = split_by_y(quant_train_df)\n",
    "categ_0_test_df, categ_1_test_df = split_by_y(categ_test_df)\n",
    "quant_0_test_df, quant_1_test_df = split_by_y(quant_test_df)"
   ]
  },
  {
   "cell_type": "code",
   "execution_count": 9,
   "metadata": {
    "scrolled": true
   },
   "outputs": [
    {
     "data": {
      "text/html": [
       "<div>\n",
       "<style scoped>\n",
       "    .dataframe tbody tr th:only-of-type {\n",
       "        vertical-align: middle;\n",
       "    }\n",
       "\n",
       "    .dataframe tbody tr th {\n",
       "        vertical-align: top;\n",
       "    }\n",
       "\n",
       "    .dataframe thead th {\n",
       "        text-align: right;\n",
       "    }\n",
       "</style>\n",
       "<table border=\"1\" class=\"dataframe\">\n",
       "  <thead>\n",
       "    <tr style=\"text-align: right;\">\n",
       "      <th></th>\n",
       "      <th>two_year_recid</th>\n",
       "      <th>sex</th>\n",
       "      <th>race</th>\n",
       "      <th>c_charge_degree_F</th>\n",
       "    </tr>\n",
       "  </thead>\n",
       "  <tbody>\n",
       "    <tr>\n",
       "      <th>3</th>\n",
       "      <td>1</td>\n",
       "      <td>1</td>\n",
       "      <td>0</td>\n",
       "      <td>1</td>\n",
       "    </tr>\n",
       "    <tr>\n",
       "      <th>5</th>\n",
       "      <td>1</td>\n",
       "      <td>1</td>\n",
       "      <td>0</td>\n",
       "      <td>1</td>\n",
       "    </tr>\n",
       "    <tr>\n",
       "      <th>9</th>\n",
       "      <td>1</td>\n",
       "      <td>1</td>\n",
       "      <td>0</td>\n",
       "      <td>1</td>\n",
       "    </tr>\n",
       "    <tr>\n",
       "      <th>10</th>\n",
       "      <td>1</td>\n",
       "      <td>1</td>\n",
       "      <td>0</td>\n",
       "      <td>1</td>\n",
       "    </tr>\n",
       "    <tr>\n",
       "      <th>18</th>\n",
       "      <td>1</td>\n",
       "      <td>1</td>\n",
       "      <td>0</td>\n",
       "      <td>1</td>\n",
       "    </tr>\n",
       "  </tbody>\n",
       "</table>\n",
       "</div>"
      ],
      "text/plain": [
       "    two_year_recid  sex  race  c_charge_degree_F\n",
       "3                1    1     0                  1\n",
       "5                1    1     0                  1\n",
       "9                1    1     0                  1\n",
       "10               1    1     0                  1\n",
       "18               1    1     0                  1"
      ]
     },
     "execution_count": 9,
     "metadata": {},
     "output_type": "execute_result"
    }
   ],
   "source": [
    "categ_1_train_df.head()"
   ]
  },
  {
   "cell_type": "code",
   "execution_count": 10,
   "metadata": {},
   "outputs": [],
   "source": [
    "# Split the label from features\n",
    "def split_y(df):\n",
    "    X = df.loc[:, df.columns != 'two_year_recid']\n",
    "    y = df['two_year_recid']\n",
    "    return X, y\n",
    "quant_0_train_X, quant_0_train_y = split_y(quant_0_train_df)\n",
    "quant_1_train_X, quant_1_train_y = split_y(quant_1_train_df)"
   ]
  },
  {
   "cell_type": "code",
   "execution_count": 11,
   "metadata": {},
   "outputs": [
    {
     "data": {
      "text/plain": [
       "3     1\n",
       "5     1\n",
       "9     1\n",
       "10    1\n",
       "18    1\n",
       "Name: two_year_recid, dtype: int64"
      ]
     },
     "execution_count": 11,
     "metadata": {},
     "output_type": "execute_result"
    }
   ],
   "source": [
    "quant_1_train_y.head()"
   ]
  },
  {
   "cell_type": "code",
   "execution_count": 12,
   "metadata": {},
   "outputs": [],
   "source": [
    "# Find mean vector (mu) and covariance matrix (sigma)\n",
    "def estimate_mu(quant_df):\n",
    "    '''Estimates the mean vector (mu) using discrete datapoints'''\n",
    "    return np.array([quant_df[col].mean() for col in quant_df.columns])\n",
    "\n",
    "mu0 = estimate_mu(quant_0_train_X)\n",
    "mu1 = estimate_mu(quant_1_train_X)"
   ]
  },
  {
   "cell_type": "code",
   "execution_count": 13,
   "metadata": {},
   "outputs": [
    {
     "data": {
      "text/plain": [
       "(array([3.63498015e+01, 2.47022497e-02, 4.19056021e-02, 6.21967358e-02,\n",
       "        2.01676224e+00]),\n",
       " array([32.09368421,  0.09315789,  0.14631579,  0.16842105,  4.78315789]))"
      ]
     },
     "execution_count": 13,
     "metadata": {},
     "output_type": "execute_result"
    }
   ],
   "source": [
    "mu0, mu1"
   ]
  },
  {
   "cell_type": "code",
   "execution_count": 14,
   "metadata": {},
   "outputs": [],
   "source": [
    "def estimate_sigma(quant_X, mu):\n",
    "    '''\n",
    "    Estimates the covariance matrix (sigma) using discrete datapoints\n",
    "    See https://github.com/scikit-learn/scikit-learn/blob/7389dba/sklearn/covariance/empirical_covariance_.py#L50\n",
    "    '''\n",
    "    X = np.asarray(quant_X)\n",
    "    X = np.array([row - mu for row in X])\n",
    "    # May need to do row by row substraction from X and then perform matrix multiplication\n",
    "    sigma = X.T @ X / X.shape[0]\n",
    "    return sigma\n",
    "\n",
    "sigma0 = estimate_sigma(quant_0_train_X, mu0)\n",
    "sigma1 = estimate_sigma(quant_1_train_X, mu1)"
   ]
  },
  {
   "cell_type": "code",
   "execution_count": 15,
   "metadata": {},
   "outputs": [],
   "source": [
    "# Fit a multivariate Gaussian Distribution to each of Y = 0 case and Y = 1 case\n",
    "def fit_gaussian(quant_X):\n",
    "    '''\n",
    "    return mu, and sigma\n",
    "    '''\n",
    "    mu = estimate_mu(quant_X)\n",
    "    sigma = estimate_sigma(quant_X, mu)\n",
    "    return mu, sigma\n",
    "\n",
    "mu0, simga0 = fit_gaussian(quant_0_train_X)\n",
    "mu1, simga1 = fit_gaussian(quant_1_train_X)"
   ]
  },
  {
   "cell_type": "code",
   "execution_count": 16,
   "metadata": {},
   "outputs": [
    {
     "data": {
      "text/plain": [
       "(5,)"
      ]
     },
     "execution_count": 16,
     "metadata": {},
     "output_type": "execute_result"
    }
   ],
   "source": [
    "mu0.shape"
   ]
  },
  {
   "cell_type": "code",
   "execution_count": 17,
   "metadata": {},
   "outputs": [],
   "source": [
    "from scipy.stats import multivariate_normal\n",
    "dist_0 = multivariate_normal(mu0, sigma0)\n",
    "dist_1 = multivariate_normal(mu1, sigma1)"
   ]
  },
  {
   "cell_type": "code",
   "execution_count": 18,
   "metadata": {},
   "outputs": [
    {
     "data": {
      "text/plain": [
       "<scipy.stats._multivariate.multivariate_normal_frozen at 0x2b5d09b6fd0>"
      ]
     },
     "execution_count": 18,
     "metadata": {},
     "output_type": "execute_result"
    }
   ],
   "source": [
    "dist_0"
   ]
  },
  {
   "cell_type": "markdown",
   "metadata": {},
   "source": [
    "### Categorical Feature as joint conditional probabilities"
   ]
  },
  {
   "cell_type": "code",
   "execution_count": 19,
   "metadata": {},
   "outputs": [
    {
     "data": {
      "text/html": [
       "<div>\n",
       "<style scoped>\n",
       "    .dataframe tbody tr th:only-of-type {\n",
       "        vertical-align: middle;\n",
       "    }\n",
       "\n",
       "    .dataframe tbody tr th {\n",
       "        vertical-align: top;\n",
       "    }\n",
       "\n",
       "    .dataframe thead th {\n",
       "        text-align: right;\n",
       "    }\n",
       "</style>\n",
       "<table border=\"1\" class=\"dataframe\">\n",
       "  <thead>\n",
       "    <tr style=\"text-align: right;\">\n",
       "      <th></th>\n",
       "      <th>two_year_recid</th>\n",
       "      <th>sex</th>\n",
       "      <th>race</th>\n",
       "      <th>c_charge_degree_F</th>\n",
       "    </tr>\n",
       "  </thead>\n",
       "  <tbody>\n",
       "    <tr>\n",
       "      <th>0</th>\n",
       "      <td>0</td>\n",
       "      <td>1</td>\n",
       "      <td>0</td>\n",
       "      <td>0</td>\n",
       "    </tr>\n",
       "    <tr>\n",
       "      <th>1</th>\n",
       "      <td>0</td>\n",
       "      <td>1</td>\n",
       "      <td>0</td>\n",
       "      <td>1</td>\n",
       "    </tr>\n",
       "    <tr>\n",
       "      <th>2</th>\n",
       "      <td>0</td>\n",
       "      <td>1</td>\n",
       "      <td>0</td>\n",
       "      <td>1</td>\n",
       "    </tr>\n",
       "    <tr>\n",
       "      <th>4</th>\n",
       "      <td>0</td>\n",
       "      <td>1</td>\n",
       "      <td>1</td>\n",
       "      <td>1</td>\n",
       "    </tr>\n",
       "    <tr>\n",
       "      <th>6</th>\n",
       "      <td>0</td>\n",
       "      <td>1</td>\n",
       "      <td>0</td>\n",
       "      <td>1</td>\n",
       "    </tr>\n",
       "  </tbody>\n",
       "</table>\n",
       "</div>"
      ],
      "text/plain": [
       "   two_year_recid  sex  race  c_charge_degree_F\n",
       "0               0    1     0                  0\n",
       "1               0    1     0                  1\n",
       "2               0    1     0                  1\n",
       "4               0    1     1                  1\n",
       "6               0    1     0                  1"
      ]
     },
     "execution_count": 19,
     "metadata": {},
     "output_type": "execute_result"
    }
   ],
   "source": [
    "categ_0_train_df.head()"
   ]
  },
  {
   "cell_type": "code",
   "execution_count": 20,
   "metadata": {},
   "outputs": [],
   "source": [
    "'''\n",
    "Count all points with 0,0,0 or 0,0,1, etc. for categorical ones\n",
    "and multiply with that particular point's P_0 or P_1\n",
    "'''\n",
    "def build_repr(row):\n",
    "    key = ''\n",
    "    if row['sex']:\n",
    "        key += '1'\n",
    "    else:\n",
    "        key += '0'\n",
    "    if row['race']:\n",
    "        key += '1'\n",
    "    else:\n",
    "        key += '0'\n",
    "    if row['c_charge_degree_F']:\n",
    "        key += '1'\n",
    "    else:\n",
    "        key += '0'\n",
    "    return key\n",
    "def calculate_cat_pr(df):\n",
    "    '''\n",
    "    Take df and return dictionary that maps key (indexes) and\n",
    "    values (probabilities).\n",
    "    '''\n",
    "    n = df.shape[0]\n",
    "    try:\n",
    "        categ_X, _ = split_y(df)\n",
    "    except KeyError:\n",
    "        pass\n",
    "    keys = ['000', '001', '010', '011', '100', '101', '110', '111']\n",
    "    values = [0] * 8\n",
    "    pr_dict = dict(zip(keys, values))\n",
    "    for index, row in df.iterrows():\n",
    "        key = build_repr(row)\n",
    "        pr_dict[key] += 1\n",
    "        \n",
    "    for key in pr_dict:\n",
    "        pr_dict[key] /= n\n",
    "    return pr_dict\n",
    "\n",
    "cat_0_pr_dict = calculate_cat_pr(categ_0_train_df)\n",
    "cat_1_pr_dict = calculate_cat_pr(categ_1_train_df)"
   ]
  },
  {
   "cell_type": "code",
   "execution_count": 21,
   "metadata": {},
   "outputs": [
    {
     "data": {
      "text/plain": [
       "{'000': 0.0564622849580944,\n",
       " '001': 0.06969563299514778,\n",
       " '010': 0.049404499338332596,\n",
       " '011': 0.04102337891486546,\n",
       " '100': 0.17644464049404499,\n",
       " '101': 0.3114247904719894,\n",
       " '110': 0.11689457432730481,\n",
       " '111': 0.17865019850022057}"
      ]
     },
     "execution_count": 21,
     "metadata": {},
     "output_type": "execute_result"
    }
   ],
   "source": [
    "cat_0_pr_dict"
   ]
  },
  {
   "cell_type": "code",
   "execution_count": 22,
   "metadata": {},
   "outputs": [
    {
     "data": {
      "text/plain": [
       "0.3114247904719894"
      ]
     },
     "execution_count": 22,
     "metadata": {},
     "output_type": "execute_result"
    }
   ],
   "source": [
    "def get_cat_pr(x):\n",
    "    '''\n",
    "    Take index of a row and return correct P_3 or P_4 based on the row's\n",
    "    categorical columns' values.\n",
    "    '''\n",
    "    key = build_repr(x)\n",
    "    categ_pr = None\n",
    "    if x['two_year_recid'] == 0:\n",
    "        categ_pr = cat_0_pr_dict[key]\n",
    "    else:\n",
    "        categ_pr = cat_1_pr_dict[key]\n",
    "    return categ_pr\n",
    "get_cat_pr(categ_0_train_df.loc[1])"
   ]
  },
  {
   "cell_type": "code",
   "execution_count": 23,
   "metadata": {},
   "outputs": [],
   "source": [
    "# Probability that y = 0 and y = 1\n",
    "Pr_y_eq_0 = categ_0_train_df.shape[0] / train_df.shape[0]\n",
    "Pr_y_eq_1 = categ_1_train_df.shape[0] / train_df.shape[0]"
   ]
  },
  {
   "cell_type": "code",
   "execution_count": 24,
   "metadata": {},
   "outputs": [
    {
     "data": {
      "text/plain": [
       "(0.5440364770818334, 0.45596352291816655)"
      ]
     },
     "execution_count": 24,
     "metadata": {},
     "output_type": "execute_result"
    }
   ],
   "source": [
    "Pr_y_eq_0, Pr_y_eq_1"
   ]
  },
  {
   "cell_type": "code",
   "execution_count": 25,
   "metadata": {},
   "outputs": [],
   "source": [
    "def predict(row, dist_0, dist_1, cat_0_pr_dict, cat_1_pr_dict, Pr_y_eq_0, Pr_y_eq_1):\n",
    "    prediction = None\n",
    "    prob = 0\n",
    "    # Preprocessing to fit the row into the model\n",
    "    categ_row, quant_row = split_categorical_and_quant(row)\n",
    "    quant_row = quant_row[1:]\n",
    "    categ_row = categ_row[1:]\n",
    "    \n",
    "    prob_0 = dist_0.pdf(quant_row)\n",
    "    prob_0 *= cat_0_pr_dict[build_repr(categ_row)]\n",
    "    prob_0 *= Pr_y_eq_0\n",
    "    \n",
    "    prob_1 = dist_1.pdf(quant_row)\n",
    "    prob_1 *= cat_1_pr_dict[build_repr(categ_row)]\n",
    "    prob_1 *= Pr_y_eq_1\n",
    "    \n",
    "    if prob_0 >= prob_1:\n",
    "        prediction = 0\n",
    "    else:\n",
    "        prediction = 1\n",
    "    return prediction"
   ]
  },
  {
   "cell_type": "code",
   "execution_count": 26,
   "metadata": {},
   "outputs": [
    {
     "name": "stdout",
     "output_type": "stream",
     "text": [
      "Prediction for 0 is  1\n"
     ]
    }
   ],
   "source": [
    "for index, row in test_df.iterrows():\n",
    "    print(f'Prediction for {index} is ', predict(row, dist_0, dist_1, cat_0_pr_dict, cat_1_pr_dict, Pr_y_eq_0, Pr_y_eq_1))\n",
    "    break"
   ]
  },
  {
   "cell_type": "code",
   "execution_count": 27,
   "metadata": {},
   "outputs": [
    {
     "data": {
      "text/plain": [
       "0.633"
      ]
     },
     "execution_count": 27,
     "metadata": {},
     "output_type": "execute_result"
    }
   ],
   "source": [
    "def evaluate(test_df, dist_0, dist_1, cat_0_pr_dict, cat_1_pr_dict, Pr_y_eq_0, Pr_y_eq_1):\n",
    "    labels = test_df['two_year_recid']\n",
    "    total = test_df.shape[0]\n",
    "    num_correct = 0\n",
    "    for index, row in test_df.iterrows():\n",
    "        prediction = predict(row, dist_0, dist_1, cat_0_pr_dict, cat_1_pr_dict, Pr_y_eq_0, Pr_y_eq_1)\n",
    "        if prediction == labels[index]:\n",
    "            num_correct += 1\n",
    "    accuracy = num_correct / total\n",
    "    return accuracy\n",
    "evaluate(test_df, dist_0, dist_1, cat_0_pr_dict, cat_1_pr_dict, Pr_y_eq_0, Pr_y_eq_1)"
   ]
  }
 ],
 "metadata": {
  "kernelspec": {
   "display_name": "Python 3",
   "language": "python",
   "name": "python3"
  },
  "language_info": {
   "codemirror_mode": {
    "name": "ipython",
    "version": 3
   },
   "file_extension": ".py",
   "mimetype": "text/x-python",
   "name": "python",
   "nbconvert_exporter": "python",
   "pygments_lexer": "ipython3",
   "version": "3.6.7"
  }
 },
 "nbformat": 4,
 "nbformat_minor": 2
}

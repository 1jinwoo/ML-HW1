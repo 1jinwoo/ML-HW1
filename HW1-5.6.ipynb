{
 "cells": [
  {
   "cell_type": "markdown",
   "metadata": {},
   "source": [
    "# UNIs"
   ]
  },
  {
   "cell_type": "markdown",
   "metadata": {},
   "source": [
    "Jack Shi (js5157), Jin Woo Won (jw3580), Udai Nagpal (ugn2000)"
   ]
  },
  {
   "cell_type": "code",
   "execution_count": 25,
   "metadata": {},
   "outputs": [],
   "source": [
    "import numpy as np\n",
    "import pandas as pd\n",
    "import matplotlib.pyplot as plt\n",
    "import math"
   ]
  },
  {
   "cell_type": "code",
   "execution_count": 80,
   "metadata": {},
   "outputs": [],
   "source": [
    "# Classifiers\n",
    "import MLE_classifier as mle\n",
    "import Naive_Bayes_classifier as nb\n",
    "import KNN_classifier as knn"
   ]
  },
  {
   "cell_type": "code",
   "execution_count": 2,
   "metadata": {},
   "outputs": [],
   "source": [
    "train = pd.read_csv('hw1data/propublicaTrain.csv')\n",
    "test = pd.read_csv('hw1data/propublicaTest.csv')"
   ]
  },
  {
   "cell_type": "code",
   "execution_count": 84,
   "metadata": {},
   "outputs": [],
   "source": [
    "mle_accuracy, mle_df = mle.perform_mle(train, test)"
   ]
  },
  {
   "cell_type": "code",
   "execution_count": 85,
   "metadata": {},
   "outputs": [],
   "source": [
    "nb_accuracy, nb_df = nb.perform_naive_bayes(train, test)"
   ]
  },
  {
   "cell_type": "code",
   "execution_count": 86,
   "metadata": {},
   "outputs": [],
   "source": [
    "knn_accuracy, knn_df = knn.perform_knn(train, test)"
   ]
  },
  {
   "cell_type": "code",
   "execution_count": 87,
   "metadata": {},
   "outputs": [
    {
     "data": {
      "text/plain": [
       "0.6645"
      ]
     },
     "execution_count": 87,
     "metadata": {},
     "output_type": "execute_result"
    }
   ],
   "source": [
    "knn_accuracy"
   ]
  },
  {
   "cell_type": "code",
   "execution_count": 88,
   "metadata": {},
   "outputs": [
    {
     "data": {
      "text/html": [
       "<div>\n",
       "<style scoped>\n",
       "    .dataframe tbody tr th:only-of-type {\n",
       "        vertical-align: middle;\n",
       "    }\n",
       "\n",
       "    .dataframe tbody tr th {\n",
       "        vertical-align: top;\n",
       "    }\n",
       "\n",
       "    .dataframe thead th {\n",
       "        text-align: right;\n",
       "    }\n",
       "</style>\n",
       "<table border=\"1\" class=\"dataframe\">\n",
       "  <thead>\n",
       "    <tr style=\"text-align: right;\">\n",
       "      <th></th>\n",
       "      <th>two_year_recid</th>\n",
       "      <th>sex</th>\n",
       "      <th>age</th>\n",
       "      <th>race</th>\n",
       "      <th>juv_fel_count</th>\n",
       "      <th>juv_misd_count</th>\n",
       "      <th>juv_other_count</th>\n",
       "      <th>priors_count</th>\n",
       "      <th>c_charge_degree_F</th>\n",
       "      <th>c_charge_degree_M</th>\n",
       "      <th>prediction</th>\n",
       "    </tr>\n",
       "  </thead>\n",
       "  <tbody>\n",
       "    <tr>\n",
       "      <th>0</th>\n",
       "      <td>1</td>\n",
       "      <td>1</td>\n",
       "      <td>27</td>\n",
       "      <td>1</td>\n",
       "      <td>0</td>\n",
       "      <td>0</td>\n",
       "      <td>1</td>\n",
       "      <td>18</td>\n",
       "      <td>1</td>\n",
       "      <td>0</td>\n",
       "      <td>1.0</td>\n",
       "    </tr>\n",
       "    <tr>\n",
       "      <th>1</th>\n",
       "      <td>1</td>\n",
       "      <td>0</td>\n",
       "      <td>29</td>\n",
       "      <td>1</td>\n",
       "      <td>0</td>\n",
       "      <td>0</td>\n",
       "      <td>0</td>\n",
       "      <td>11</td>\n",
       "      <td>1</td>\n",
       "      <td>0</td>\n",
       "      <td>1.0</td>\n",
       "    </tr>\n",
       "    <tr>\n",
       "      <th>2</th>\n",
       "      <td>1</td>\n",
       "      <td>1</td>\n",
       "      <td>25</td>\n",
       "      <td>1</td>\n",
       "      <td>0</td>\n",
       "      <td>0</td>\n",
       "      <td>1</td>\n",
       "      <td>6</td>\n",
       "      <td>0</td>\n",
       "      <td>1</td>\n",
       "      <td>1.0</td>\n",
       "    </tr>\n",
       "    <tr>\n",
       "      <th>3</th>\n",
       "      <td>0</td>\n",
       "      <td>1</td>\n",
       "      <td>26</td>\n",
       "      <td>1</td>\n",
       "      <td>1</td>\n",
       "      <td>0</td>\n",
       "      <td>0</td>\n",
       "      <td>2</td>\n",
       "      <td>1</td>\n",
       "      <td>0</td>\n",
       "      <td>1.0</td>\n",
       "    </tr>\n",
       "    <tr>\n",
       "      <th>4</th>\n",
       "      <td>0</td>\n",
       "      <td>0</td>\n",
       "      <td>33</td>\n",
       "      <td>1</td>\n",
       "      <td>0</td>\n",
       "      <td>0</td>\n",
       "      <td>0</td>\n",
       "      <td>2</td>\n",
       "      <td>1</td>\n",
       "      <td>0</td>\n",
       "      <td>0.0</td>\n",
       "    </tr>\n",
       "  </tbody>\n",
       "</table>\n",
       "</div>"
      ],
      "text/plain": [
       "   two_year_recid  sex  age  race  juv_fel_count  juv_misd_count  \\\n",
       "0               1    1   27     1              0               0   \n",
       "1               1    0   29     1              0               0   \n",
       "2               1    1   25     1              0               0   \n",
       "3               0    1   26     1              1               0   \n",
       "4               0    0   33     1              0               0   \n",
       "\n",
       "   juv_other_count  priors_count  c_charge_degree_F  c_charge_degree_M  \\\n",
       "0                1            18                  1                  0   \n",
       "1                0            11                  1                  0   \n",
       "2                1             6                  0                  1   \n",
       "3                0             2                  1                  0   \n",
       "4                0             2                  1                  0   \n",
       "\n",
       "   prediction  \n",
       "0         1.0  \n",
       "1         1.0  \n",
       "2         1.0  \n",
       "3         1.0  \n",
       "4         0.0  "
      ]
     },
     "execution_count": 88,
     "metadata": {},
     "output_type": "execute_result"
    }
   ],
   "source": [
    "knn_df.head()"
   ]
  },
  {
   "cell_type": "code",
   "execution_count": 66,
   "metadata": {},
   "outputs": [],
   "source": [
    "LABEL = 'two_year_recid'\n",
    "RACE = 'race'\n",
    "PRED = 'prediction'"
   ]
  },
  {
   "cell_type": "markdown",
   "metadata": {},
   "source": [
    "# Demographic Parity"
   ]
  },
  {
   "cell_type": "code",
   "execution_count": 67,
   "metadata": {},
   "outputs": [],
   "source": [
    "def find_diff(P1, P2):\n",
    "    '''Return absolute difference in percentage'''\n",
    "    return abs(P1 - P2) * 100\n",
    "\n",
    "def find_DP_pr(classifier_df, pred, race):\n",
    "    numerator = classifier_df.loc[(classifier_df[PRED] == pred) & (classifier_df[RACE] == race)].shape[0]\n",
    "    denominator = classifier_df.loc[classifier_df[RACE] == race].shape[0]\n",
    "    return numerator / denominator"
   ]
  },
  {
   "cell_type": "markdown",
   "metadata": {},
   "source": [
    "### MLE"
   ]
  },
  {
   "cell_type": "code",
   "execution_count": 93,
   "metadata": {},
   "outputs": [],
   "source": [
    "# P[prediction=1 | race=1]\n",
    "P_11 = find_DP_pr(mle_df, pred=1, race=1)\n",
    "\n",
    "# P[prediction=1 | race=0]\n",
    "P_10 = find_DP_pr(mle_df, pred=1, race=0)\n",
    "\n",
    "DP_mle_diff = find_diff(P_11, P_10)"
   ]
  },
  {
   "cell_type": "code",
   "execution_count": 94,
   "metadata": {},
   "outputs": [
    {
     "data": {
      "text/plain": [
       "9.522220619002958"
      ]
     },
     "execution_count": 94,
     "metadata": {},
     "output_type": "execute_result"
    }
   ],
   "source": [
    "DP_mle_diff"
   ]
  },
  {
   "cell_type": "markdown",
   "metadata": {},
   "source": [
    "### K-Nearest Neighbors"
   ]
  },
  {
   "cell_type": "code",
   "execution_count": 95,
   "metadata": {},
   "outputs": [],
   "source": [
    "DP_knn_diff = find_diff(find_DP_pr(knn_df, pred=1, race=1),\\\n",
    "                        find_DP_pr(knn_df, pred=1, race=0))"
   ]
  },
  {
   "cell_type": "code",
   "execution_count": 96,
   "metadata": {},
   "outputs": [
    {
     "data": {
      "text/plain": [
       "17.644830820287133"
      ]
     },
     "execution_count": 96,
     "metadata": {},
     "output_type": "execute_result"
    }
   ],
   "source": [
    "DP_knn_diff"
   ]
  },
  {
   "cell_type": "markdown",
   "metadata": {},
   "source": [
    "### Naive Bayes"
   ]
  },
  {
   "cell_type": "code",
   "execution_count": 97,
   "metadata": {},
   "outputs": [],
   "source": [
    "DP_nb_diff = find_diff(find_DP_pr(nb_df, pred=1, race=1),\\\n",
    "                       find_DP_pr(nb_df, pred=1, race=0))"
   ]
  },
  {
   "cell_type": "code",
   "execution_count": 98,
   "metadata": {},
   "outputs": [
    {
     "data": {
      "text/plain": [
       "26.8324796190751"
      ]
     },
     "execution_count": 98,
     "metadata": {},
     "output_type": "execute_result"
    }
   ],
   "source": [
    "DP_nb_diff"
   ]
  },
  {
   "cell_type": "code",
   "execution_count": 132,
   "metadata": {},
   "outputs": [],
   "source": [
    "def plot_diff(differences):\n",
    "    x = np.arange(3)\n",
    "    plt.bar(x, differences, color=['r', 'g', 'b'])\n",
    "    plt.xticks(x, ('MLE', 'K-NN', 'Naive Bayes'))\n",
    "    plt.ylabel('Absolute differences (%)')\n",
    "    plt.show()"
   ]
  },
  {
   "cell_type": "code",
   "execution_count": 140,
   "metadata": {},
   "outputs": [
    {
     "data": {
      "image/png": "[encoded data removed]",
      "text/plain": [
       "<Figure size 432x288 with 1 Axes>"
      ]
     },
     "metadata": {
      "needs_background": "light"
     },
     "output_type": "display_data"
    }
   ],
   "source": [
    "plt.title('Demographic Parity Comparison')\n",
    "plot_diff([DP_mle_diff, DP_knn_diff, DP_nb_diff])"
   ]
  },
  {
   "cell_type": "markdown",
   "metadata": {},
   "source": [
    "# Equalized Odds"
   ]
  },
  {
   "cell_type": "code",
   "execution_count": 112,
   "metadata": {},
   "outputs": [],
   "source": [
    "def find_EO_pr(classifier_df, pred, race, label):\n",
    "    numerator = classifier_df.loc[(classifier_df[PRED] == pred) &\\\n",
    "                                 (classifier_df[RACE] == race) &\\\n",
    "                                 (classifier_df[LABEL] == label)].shape[0]\n",
    "    denominator = classifier_df.loc[(classifier_df[RACE] == race) &\\\n",
    "                                   (classifier_df[LABEL] == label)].shape[0]\n",
    "    return numerator / denominator"
   ]
  },
  {
   "cell_type": "markdown",
   "metadata": {},
   "source": [
    "### MLE"
   ]
  },
  {
   "cell_type": "code",
   "execution_count": 124,
   "metadata": {},
   "outputs": [],
   "source": [
    "# Note 1, 3 and 2, 4 are the same\n",
    "EO_mle_diff1 = find_diff(find_EO_pr(mle_df, pred=1, race=1, label=1),\\\n",
    "                         find_EO_pr(mle_df, pred=1, race=0, label=1))\n",
    "EO_mle_diff2 = find_diff(find_EO_pr(mle_df, pred=1, race=1, label=0),\\\n",
    "                         find_EO_pr(mle_df, pred=1, race=0, label=0))\n",
    "EO_mle_diff3 = find_diff(find_EO_pr(mle_df, pred=0, race=1, label=1),\\\n",
    "                         find_EO_pr(mle_df, pred=0, race=0, label=1))\n",
    "EO_mle_diff4 = find_diff(find_EO_pr(mle_df, pred=0, race=1, label=0),\\\n",
    "                         find_EO_pr(mle_df, pred=0, race=0, label=0))"
   ]
  },
  {
   "cell_type": "code",
   "execution_count": 125,
   "metadata": {},
   "outputs": [
    {
     "data": {
      "text/plain": [
       "(13.165176670923797, 3.673033643026142, 13.165176670923806, 3.6730336430261468)"
      ]
     },
     "execution_count": 125,
     "metadata": {},
     "output_type": "execute_result"
    }
   ],
   "source": [
    "EO_mle_diff1, EO_mle_diff2, EO_mle_diff3, EO_mle_diff4"
   ]
  },
  {
   "cell_type": "markdown",
   "metadata": {},
   "source": [
    "### K-Nearest Neighbors"
   ]
  },
  {
   "cell_type": "code",
   "execution_count": 127,
   "metadata": {},
   "outputs": [],
   "source": [
    "EO_knn_diff1 = find_diff(find_EO_pr(knn_df, pred=1, race=1, label=1),\\\n",
    "                         find_EO_pr(knn_df, pred=1, race=0, label=1))\n",
    "EO_knn_diff2 = find_diff(find_EO_pr(knn_df, pred=1, race=1, label=0),\\\n",
    "                         find_EO_pr(knn_df, pred=1, race=0, label=0))"
   ]
  },
  {
   "cell_type": "markdown",
   "metadata": {},
   "source": [
    "### Naive Bayes"
   ]
  },
  {
   "cell_type": "code",
   "execution_count": 129,
   "metadata": {},
   "outputs": [],
   "source": [
    "EO_nb_diff1 = find_diff(find_EO_pr(nb_df, pred=1, race=1, label=1),\\\n",
    "                         find_EO_pr(nb_df, pred=1, race=0, label=1))\n",
    "EO_nb_diff2 = find_diff(find_EO_pr(nb_df, pred=1, race=1, label=0),\\\n",
    "                         find_EO_pr(nb_df, pred=1, race=0, label=0))"
   ]
  },
  {
   "cell_type": "code",
   "execution_count": 138,
   "metadata": {},
   "outputs": [
    {
     "data": {
      "image/png": "[encoded data removed]",
      "text/plain": [
       "<Figure size 432x288 with 1 Axes>"
      ]
     },
     "metadata": {
      "needs_background": "light"
     },
     "output_type": "display_data"
    }
   ],
   "source": [
    "plt.title('Equalized Odds Comparison 1')\n",
    "plot_diff([EO_mle_diff1, EO_knn_diff1, EO_nb_diff1])"
   ]
  },
  {
   "cell_type": "code",
   "execution_count": 139,
   "metadata": {},
   "outputs": [
    {
     "data": {
      "image/png": "[encoded data removed]",
      "text/plain": [
       "<Figure size 432x288 with 1 Axes>"
      ]
     },
     "metadata": {
      "needs_background": "light"
     },
     "output_type": "display_data"
    }
   ],
   "source": [
    "plt.title('Equalized Odds Comparison 2')\n",
    "plot_diff([EO_mle_diff2, EO_knn_diff2, EO_nb_diff2])"
   ]
  },
  {
   "cell_type": "markdown",
   "metadata": {},
   "source": [
    "# Predictive Parity"
   ]
  },
  {
   "cell_type": "code",
   "execution_count": 78,
   "metadata": {},
   "outputs": [],
   "source": [
    "def find_PP_pr(classifier_df, label, race, pred):\n",
    "    numerator = classifier_df.loc[(classifier_df[LABEL] == label) &\\\n",
    "                                 (classifier_df[RACE] == race) &\\\n",
    "                                 (classifier_df[PRED] == pred)].shape[0]\n",
    "    denominator = classifier_df.loc[(classifier_df[RACE] == race) &\\\n",
    "                                   (classifier_df[PRED] == pred)].shape[0]\n",
    "    return numerator / denominator"
   ]
  },
  {
   "cell_type": "markdown",
   "metadata": {},
   "source": [
    "### MLE"
   ]
  },
  {
   "cell_type": "code",
   "execution_count": 143,
   "metadata": {},
   "outputs": [],
   "source": [
    "# Note diff1 == diff3 as well as diff2 == diff4\n",
    "PP_mle_diff1 = find_diff(find_PP_pr(mle_df, label=1, race=1, pred=1),\\\n",
    "                         find_PP_pr(mle_df, label=1, race=0, pred=1))\n",
    "\n",
    "PP_mle_diff2 = find_diff(find_PP_pr(mle_df, label=1, race=1, pred=0),\\\n",
    "                         find_PP_pr(mle_df, label=1, race=0, pred=0))\n",
    "\n",
    "PP_mle_diff3 = find_diff(find_PP_pr(mle_df, label=0, race=1, pred=1),\\\n",
    "                         find_PP_pr(mle_df, label=0, race=0, pred=1))\n",
    "\n",
    "PP_mle_diff4 = find_diff(find_PP_pr(mle_df, label=0, race=1, pred=0),\\\n",
    "                         find_PP_pr(mle_df, label=0, race=0, pred=0))"
   ]
  },
  {
   "cell_type": "code",
   "execution_count": 144,
   "metadata": {},
   "outputs": [
    {
     "data": {
      "text/plain": [
       "(5.986881335718541, 5.646702450899921, 5.986881335718547, 5.646702450899921)"
      ]
     },
     "execution_count": 144,
     "metadata": {},
     "output_type": "execute_result"
    }
   ],
   "source": [
    "(PP_mle_diff1, PP_mle_diff2, PP_mle_diff3, PP_mle_diff4)"
   ]
  },
  {
   "cell_type": "markdown",
   "metadata": {},
   "source": [
    "### K-Nearest Neighbors"
   ]
  },
  {
   "cell_type": "code",
   "execution_count": 145,
   "metadata": {},
   "outputs": [],
   "source": [
    "PP_knn_diff1 = find_diff(find_PP_pr(knn_df, label=1, race=1, pred=1),\\\n",
    "                         find_PP_pr(knn_df, label=1, race=0, pred=1))\n",
    "\n",
    "PP_knn_diff2 = find_diff(find_PP_pr(knn_df, label=1, race=1, pred=0),\\\n",
    "                         find_PP_pr(knn_df, label=1, race=0, pred=0))"
   ]
  },
  {
   "cell_type": "code",
   "execution_count": 146,
   "metadata": {},
   "outputs": [
    {
     "data": {
      "text/plain": [
       "(6.875043315545081, 1.9384762215135354)"
      ]
     },
     "execution_count": 146,
     "metadata": {},
     "output_type": "execute_result"
    }
   ],
   "source": [
    "PP_knn_diff1, PP_knn_diff2"
   ]
  },
  {
   "cell_type": "markdown",
   "metadata": {},
   "source": [
    "### Naive Bayes"
   ]
  },
  {
   "cell_type": "code",
   "execution_count": 147,
   "metadata": {},
   "outputs": [],
   "source": [
    "PP_nb_diff1 = find_diff(find_PP_pr(nb_df, label=1, race=1, pred=1),\\\n",
    "                         find_PP_pr(nb_df, label=1, race=0, pred=1))\n",
    "\n",
    "PP_nb_diff2 = find_diff(find_PP_pr(nb_df, label=1, race=1, pred=0),\\\n",
    "                         find_PP_pr(nb_df, label=1, race=0, pred=0))"
   ]
  },
  {
   "cell_type": "code",
   "execution_count": 148,
   "metadata": {},
   "outputs": [
    {
     "data": {
      "text/plain": [
       "(1.1904761904761862, 1.7267760685165001)"
      ]
     },
     "execution_count": 148,
     "metadata": {},
     "output_type": "execute_result"
    }
   ],
   "source": [
    "PP_nb_diff1, PP_nb_diff2"
   ]
  },
  {
   "cell_type": "code",
   "execution_count": 149,
   "metadata": {},
   "outputs": [
    {
     "data": {
      "image/png": "[encoded data removed]",
      "text/plain": [
       "<Figure size 432x288 with 1 Axes>"
      ]
     },
     "metadata": {
      "needs_background": "light"
     },
     "output_type": "display_data"
    }
   ],
   "source": [
    "plt.title('Predictive Parity Comparison 1')\n",
    "plot_diff([PP_mle_diff1, PP_knn_diff1, PP_nb_diff1])"
   ]
  },
  {
   "cell_type": "code",
   "execution_count": 150,
   "metadata": {},
   "outputs": [
    {
     "data": {
      "image/png": "[encoded data removed]",
      "text/plain": [
       "<Figure size 432x288 with 1 Axes>"
      ]
     },
     "metadata": {
      "needs_background": "light"
     },
     "output_type": "display_data"
    }
   ],
   "source": [
    "plt.title('Predictive Parity Comparison 2')\n",
    "plot_diff([PP_mle_diff2, PP_knn_diff2, PP_nb_diff2])"
   ]
  }
 ],
 "metadata": {
  "kernelspec": {
   "display_name": "Python 3",
   "language": "python",
   "name": "python3"
  },
  "language_info": {
   "codemirror_mode": {
    "name": "ipython",
    "version": 3
   },
   "file_extension": ".py",
   "mimetype": "text/x-python",
   "name": "python",
   "nbconvert_exporter": "python",
   "pygments_lexer": "ipython3",
   "version": "3.6.7"
  }
 },
 "nbformat": 4,
 "nbformat_minor": 2
}

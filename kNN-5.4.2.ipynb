{
 "cells": [
  {
   "cell_type": "code",
   "execution_count": 1,
   "metadata": {
    "collapsed": true
   },
   "outputs": [],
   "source": [
    "import random\n",
    "import numpy as np\n",
    "import pandas as pd\n",
    "from scipy import stats\n",
    "train = pd.read_csv('hw1data/propublicaTrain.csv')\n",
    "test = pd.read_csv('hw1data/propublicaTest.csv')"
   ]
  },
  {
   "cell_type": "code",
   "execution_count": 9,
   "metadata": {},
   "outputs": [
    {
     "data": {
      "text/plain": [
       "(833, 3334)"
      ]
     },
     "execution_count": 9,
     "metadata": {},
     "output_type": "execute_result"
    }
   ],
   "source": [
    "#Training-Validation Split\n",
    "raw_train_labels=np.array(train['two_year_recid'])\n",
    "raw_train_input = np.array([np.array(train['sex']),np.array(train['age']),np.array(train['race']),np.array(train['juv_fel_count']),np.array(train['juv_misd_count']),np.array(train['juv_other_count']),np.array(train['priors_count']),np.array(train['c_charge_degree_F'])])\n",
    "validation_pct = 20\n",
    "val_size = validation_pct*len(raw_train_labels)//100\n",
    "val_ind = random.sample(range(len(raw_train_labels)), val_size)\n",
    "validation_input = np.zeros((8,val_size))\n",
    "validation_labels = np.zeros(val_size)\n",
    "training_input = np.zeros((8,len(raw_train_labels)-val_size))\n",
    "training_labels = np.zeros(len(raw_train_labels)-val_size)\n",
    "cat_names = ['sex','age','race','juv_fel_count','juv_misd_count','juv_other_count','priors_count','c_charge_degree_F']\n",
    "val_cnt = 0\n",
    "trn_cnt = 0\n",
    "for i in range(len(raw_train_labels)):\n",
    "    if i in val_ind:\n",
    "        for j in range(len(cat_names)):\n",
    "            validation_input[j,val_cnt]=train[cat_names[j]][i]\n",
    "        validation_labels[val_cnt]=train['two_year_recid'][i]\n",
    "        val_cnt += 1\n",
    "    else:\n",
    "        for j in range(len(cat_names)):\n",
    "            training_input[j,trn_cnt]=train[cat_names[j]][i]\n",
    "        training_labels[trn_cnt]=train['two_year_recid'][i]\n",
    "        trn_cnt += 1\n",
    "val_cnt, trn_cnt"
   ]
  },
  {
   "cell_type": "code",
   "execution_count": 3,
   "metadata": {
    "collapsed": true
   },
   "outputs": [],
   "source": [
    "#Normed Distance\n",
    "def distance(x,y,p):\n",
    "    if (p=='inf'):\n",
    "        all_dist = np.zeros(np.shape(x)[0])\n",
    "        for i in range(np.shape(x)[0]):\n",
    "            all_dist[i] = abs(x[i]-y[i])\n",
    "        return np.amax(all_dist)\n",
    "    else:\n",
    "        sum = 0\n",
    "        for i in range(np.shape(x)[0]):\n",
    "            sum += (abs(x[i]-y[i]))**p\n",
    "        return sum**(1/p)\n"
   ]
  },
  {
   "cell_type": "code",
   "execution_count": 4,
   "metadata": {
    "collapsed": true
   },
   "outputs": [],
   "source": [
    "#Reading in Test Data\n",
    "test_labels = np.array(test['two_year_recid'])\n",
    "test_input = np.array([np.array(test['sex']),np.array(test['age']),np.array(test['race']),np.array(test['juv_fel_count']),np.array(test['juv_misd_count']),np.array(test['juv_other_count']),np.array(test['priors_count']),np.array(test['c_charge_degree_F'])])"
   ]
  },
  {
   "cell_type": "code",
   "execution_count": null,
   "metadata": {
    "collapsed": true
   },
   "outputs": [],
   "source": [
    "#Unweighted k-NN Classification on Validation Data\n",
    "k_array = [k for k in range(1,16,2)]\n",
    "p_array = [1,2,3,'inf']\n",
    "for k in k_array:\n",
    "    for p in p_array:\n",
    "        pred_validation_labels = np.zeros(len(validation_labels))\n",
    "        for i in range(len(validation_labels)):\n",
    "            all_distances = np.zeros(len(training_labels))\n",
    "            for j in range(len(training_labels)):\n",
    "                all_distances[j]=distance(validation_input[:,i],training_input[:,j],p)\n",
    "            ind = np.argpartition(all_distances,k)[:k]\n",
    "            nearest_labels = [training_labels[temp] for temp in ind]\n",
    "            pred_validation_labels[i] = stats.mode(nearest_labels, axis=None)[0][0]\n",
    "        num_correct = 0\n",
    "        for ent in range(len(validation_labels)):\n",
    "            if (validation_labels[ent]==pred_validation_labels[ent]):\n",
    "                num_correct += 1\n",
    "        #print(validation_labels)\n",
    "        #print(pred_validation_labels)\n",
    "        print(\"k=\"+str(k) + \",p=\" + str(p) + \": \" + str(num_correct/len(validation_labels)*100))"
   ]
  },
  {
   "cell_type": "code",
   "execution_count": null,
   "metadata": {
    "collapsed": true
   },
   "outputs": [],
   "source": [
    "#Normalized [-1,1] kNN Classification on Validation Data\n",
    "norm_training_input = np.zeros((8,len(training_labels)))\n",
    "norm_validation_input = np.zeros((8,len(validation_labels)))\n",
    "norm_test_input = np.zeros((8,len(test_labels)))\n",
    "cat_num = [0,2,7]\n",
    "#Normalization\n",
    "for j in range(len(cat_names)):\n",
    "    x = np.amax(training_input[j,:])\n",
    "    for cnt0 in range(len(training_labels)):\n",
    "        if j in cat_num:\n",
    "            norm_training_input[j,cnt0] = -1 + 2*training_input[j,cnt0]\n",
    "        else:\n",
    "            norm_training_input[j,cnt0] = -1 + 2*training_input[j,cnt0]/x\n",
    "    for cnt1 in range(len(validation_labels)):\n",
    "        if j in cat_num:\n",
    "            norm_validation_input[j,cnt1] = -1 + 2*validation_input[j,cnt1]\n",
    "        else:\n",
    "            norm_validation_input[j,cnt1] = -1 + 2*validation_input[j,cnt1]/x\n",
    "    for cnt2 in range(len(test_labels)):\n",
    "        if j in cat_num:\n",
    "            norm_test_input[j,cnt2] = -1 + 2*test_input[j,cnt2]\n",
    "        else:\n",
    "            norm_test_input[j,cnt2] = -1 + 2*test_input[j,cnt2]/x\n",
    "#kNN\n",
    "for k in k_array:\n",
    "    for p in p_array:\n",
    "        pred_norm_validation_labels = np.zeros(len(validation_labels))\n",
    "        for i in range(len(validation_labels)):\n",
    "            all_distances = np.zeros(len(training_labels))\n",
    "            for j in range(len(training_labels)):\n",
    "                all_distances[j]=distance(norm_validation_input[:,i],norm_training_input[:,j],p)\n",
    "            ind = np.argpartition(all_distances,k)[:k]\n",
    "            nearest_labels = [training_labels[temp] for temp in ind]\n",
    "            pred_norm_validation_labels[i] = stats.mode(nearest_labels, axis=None)[0][0]\n",
    "        num_correct = 0\n",
    "        for ent in range(len(validation_labels)):\n",
    "            if (validation_labels[ent]==pred_norm_validation_labels[ent]):\n",
    "                num_correct += 1\n",
    "        #print(validation_labels)\n",
    "        #print(pred_validation_labels)\n",
    "        print(\"NORM; k=\"+str(k) + \",p=\" + str(p) + \": \" + str(num_correct/len(validation_labels)*100))"
   ]
  },
  {
   "cell_type": "code",
   "execution_count": 6,
   "metadata": {},
   "outputs": [
    {
     "name": "stdout",
     "output_type": "stream",
     "text": [
      "67.4\n"
     ]
    }
   ],
   "source": [
    "#Running the best model, based on validation data, on our testing data\n",
    "k_final=15\n",
    "p_final=1\n",
    "pred_test_labels = np.zeros(len(test_labels))\n",
    "for i in range(len(test_labels)):\n",
    "    all_distances = np.zeros(len(training_labels))\n",
    "    for j in range(len(training_labels)):\n",
    "        all_distances[j]=distance(test_input[:,i],training_input[:,j],p_final)\n",
    "    ind = np.argpartition(all_distances,k_final)[:k_final]\n",
    "    nearest_labels = [training_labels[temp] for temp in ind]\n",
    "    pred_test_labels[i] = stats.mode(nearest_labels, axis=None)[0][0]\n",
    "num_correct = 0\n",
    "for ent in range(len(test_labels)):\n",
    "    if (test_labels[ent]==pred_test_labels[ent]):\n",
    "        num_correct += 1\n",
    "ACCURACY = num_correct/len(test_labels)*100\n",
    "TEST_PRED_LIST = pred_test_labels\n",
    "print(ACCURACY)"
   ]
  },
  {
   "cell_type": "code",
   "execution_count": null,
   "metadata": {
    "collapsed": true
   },
   "outputs": [],
   "source": [
    "#Training and testing data dataframes as parameters, returns accuracy,testing_predictions"
   ]
  }
 ],
 "metadata": {
  "kernelspec": {
   "display_name": "Python 3",
   "language": "python",
   "name": "python3"
  },
  "language_info": {
   "codemirror_mode": {
    "name": "ipython",
    "version": 3
   },
   "file_extension": ".py",
   "mimetype": "text/x-python",
   "name": "python",
   "nbconvert_exporter": "python",
   "pygments_lexer": "ipython3",
   "version": "3.6.3"
  }
 },
 "nbformat": 4,
 "nbformat_minor": 2
}
